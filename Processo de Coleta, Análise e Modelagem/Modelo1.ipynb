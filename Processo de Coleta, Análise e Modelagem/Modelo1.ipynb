{
 "cells": [
  {
   "cell_type": "code",
   "execution_count": 22,
   "metadata": {},
   "outputs": [],
   "source": [
    "import pandas as pd\n",
    "import requests as rq\n",
    "import numpy as np\n",
    "import matplotlib.pyplot as plt\n",
    "from bs4 import BeautifulSoup"
   ]
  },
  {
   "cell_type": "code",
   "execution_count": null,
   "metadata": {},
   "outputs": [],
   "source": [
    "pd.set_option(\"display.max_columns\", None)"
   ]
  },
  {
   "cell_type": "markdown",
   "metadata": {},
   "source": [
    "___\n",
    "## Importando os dados com labels de interesse classificados"
   ]
  },
  {
   "cell_type": "code",
   "execution_count": 2,
   "metadata": {},
   "outputs": [
    {
     "data": {
      "text/plain": [
       "(600, 16)"
      ]
     },
     "execution_count": 2,
     "metadata": {},
     "output_type": "execute_result"
    }
   ],
   "source": [
    "df = pd.read_csv(\"features_selecionadas(com labels).csv\", index_col=0)\n",
    "df = df[df[\"interested\"].notnull()].reset_index(drop=True)\n",
    "df.shape"
   ]
  },
  {
   "cell_type": "code",
   "execution_count": 3,
   "metadata": {},
   "outputs": [
    {
     "data": {
      "text/html": [
       "<div>\n",
       "<style scoped>\n",
       "    .dataframe tbody tr th:only-of-type {\n",
       "        vertical-align: middle;\n",
       "    }\n",
       "\n",
       "    .dataframe tbody tr th {\n",
       "        vertical-align: top;\n",
       "    }\n",
       "\n",
       "    .dataframe thead th {\n",
       "        text-align: right;\n",
       "    }\n",
       "</style>\n",
       "<table border=\"1\" class=\"dataframe\">\n",
       "  <thead>\n",
       "    <tr style=\"text-align: right;\">\n",
       "      <th></th>\n",
       "      <th>watch-title</th>\n",
       "      <th>interested</th>\n",
       "      <th>watch-view-count</th>\n",
       "      <th>watch-time-text</th>\n",
       "      <th>content_watch-info-tag-list</th>\n",
       "      <th>watch7-headline</th>\n",
       "      <th>watch7-user-header</th>\n",
       "      <th>watch8-sentiment-actions</th>\n",
       "      <th>og:image</th>\n",
       "      <th>og:image:width</th>\n",
       "      <th>og:image:height</th>\n",
       "      <th>og:description</th>\n",
       "      <th>og:video:width</th>\n",
       "      <th>og:video:height</th>\n",
       "      <th>og:video:type</th>\n",
       "      <th>channel_link_0</th>\n",
       "    </tr>\n",
       "  </thead>\n",
       "  <tbody>\n",
       "    <tr>\n",
       "      <td>595</td>\n",
       "      <td>Curso de Estatística Prática - Aula 2: Organiz...</td>\n",
       "      <td>1.0</td>\n",
       "      <td>16 visualizações</td>\n",
       "      <td>Publicado em 4 de mar. de 2020</td>\n",
       "      <td>Ciência e tecnologia</td>\n",
       "      <td>EEFERPUSP Escola de Educação Física e Esporte\\...</td>\n",
       "      <td>Pedro Abdalla\\n\\n\\n\\n\\n\\n\\n\\n\\n\\n\\n\\n\\n\\nCarre...</td>\n",
       "      <td>16 visualizações\\n\\n\\n\\n\\n\\n\\n\\n4\\n\\nGostou de...</td>\n",
       "      <td>https://i.ytimg.com/vi/b0BfSHd8Zb8/hqdefault.jpg</td>\n",
       "      <td>480</td>\n",
       "      <td>360</td>\n",
       "      <td>Aula ministrada no Grupo de Estudo e Pesquisa ...</td>\n",
       "      <td>1280.0</td>\n",
       "      <td>720.0</td>\n",
       "      <td>text/html</td>\n",
       "      <td>/channel/UCdtCblBFPv-D0nQnV4lBbYw</td>\n",
       "    </tr>\n",
       "    <tr>\n",
       "      <td>596</td>\n",
       "      <td>Estatística: Prof. Carlos Henrique</td>\n",
       "      <td>0.0</td>\n",
       "      <td>2.225 visualizações</td>\n",
       "      <td>Transmitido ao vivo em 26 de fev. de 2019</td>\n",
       "      <td>HAAWK for a 3rd Party; HAAWK Publishing</td>\n",
       "      <td>#Estatística #AulaGratuita #ConcursoPúblico\\n\\...</td>\n",
       "      <td>Estratégia Concursos\\n\\n\\n\\n\\n\\n\\n\\n\\n\\n\\n\\n\\n...</td>\n",
       "      <td>2.225 visualizações\\n\\n\\n\\n\\n\\n\\n\\n105\\n\\nGost...</td>\n",
       "      <td>https://i.ytimg.com/vi/P2hni68W5JE/maxresdefau...</td>\n",
       "      <td>1280</td>\n",
       "      <td>720</td>\n",
       "      <td>Aula Gratuita de Estatística com o Prof. Carlo...</td>\n",
       "      <td>1280.0</td>\n",
       "      <td>720.0</td>\n",
       "      <td>text/html</td>\n",
       "      <td>/channel/UChvwkhC3eHxJsVxW_ItDjdA</td>\n",
       "    </tr>\n",
       "    <tr>\n",
       "      <td>597</td>\n",
       "      <td>Estatística para Polícia Federal 2018 - André ...</td>\n",
       "      <td>0.0</td>\n",
       "      <td>6.567 visualizações</td>\n",
       "      <td>Publicado em 13 de ago. de 2018</td>\n",
       "      <td>Educação</td>\n",
       "      <td>#políciafederal\\n\\n\\n\\n    Estatística para Po...</td>\n",
       "      <td>AlfaCon Concursos Públicos\\n\\n\\n\\n\\n\\n\\n\\n\\n\\n...</td>\n",
       "      <td>6.567 visualizações\\n\\n\\n\\n\\n\\n\\n\\n336\\n\\nGost...</td>\n",
       "      <td>https://i.ytimg.com/vi/5VPzLt-F8HM/maxresdefau...</td>\n",
       "      <td>1280</td>\n",
       "      <td>720</td>\n",
       "      <td>Professor André Arruda trabalha os principais ...</td>\n",
       "      <td>1280.0</td>\n",
       "      <td>720.0</td>\n",
       "      <td>text/html</td>\n",
       "      <td>/channel/UCoihrBTsIlpFnTkJFU-kdtQ</td>\n",
       "    </tr>\n",
       "    <tr>\n",
       "      <td>598</td>\n",
       "      <td>SAP-SP 2017 - Estatística - Probabilidade - Pa...</td>\n",
       "      <td>0.0</td>\n",
       "      <td>5.150 visualizações</td>\n",
       "      <td>Publicado em 31 de mai. de 2017</td>\n",
       "      <td>Educação</td>\n",
       "      <td>SAP-SP 2017 - Estatística - Probabilidade - Pa...</td>\n",
       "      <td>LacConcursos - Canal\\n\\n\\n\\n\\n\\n\\n\\n\\n\\n\\n\\n\\n...</td>\n",
       "      <td>5.150 visualizações\\n\\n\\n\\n\\n\\n\\n\\n125\\n\\nGost...</td>\n",
       "      <td>https://i.ytimg.com/vi/JSmRb2W0rr4/hqdefault.jpg</td>\n",
       "      <td>480</td>\n",
       "      <td>360</td>\n",
       "      <td>Curso ONLINE para o SAP SP 2017 Cargo: Agente ...</td>\n",
       "      <td>1280.0</td>\n",
       "      <td>720.0</td>\n",
       "      <td>text/html</td>\n",
       "      <td>/channel/UCaq7S526azt0duOdaRHbpkQ</td>\n",
       "    </tr>\n",
       "    <tr>\n",
       "      <td>599</td>\n",
       "      <td>Curso de Aprofundamento em Probabilidade e Est...</td>\n",
       "      <td>1.0</td>\n",
       "      <td>94 visualizações</td>\n",
       "      <td>Publicado em 23 de nov. de 2018</td>\n",
       "      <td>Educação</td>\n",
       "      <td>Curso de Aprofundamento em Probabilidade e Est...</td>\n",
       "      <td>Alexandre Raymundo\\n\\n\\n\\n\\n\\n\\n\\n\\n\\n\\n\\n\\n\\n...</td>\n",
       "      <td>94 visualizações\\n\\n\\n\\n\\n\\n\\n\\n13\\n\\nGostou d...</td>\n",
       "      <td>https://i.ytimg.com/vi/7Jm5WGbH0BE/maxresdefau...</td>\n",
       "      <td>1280</td>\n",
       "      <td>720</td>\n",
       "      <td>Clique no link abaixo para registrar-se no meu...</td>\n",
       "      <td>1280.0</td>\n",
       "      <td>720.0</td>\n",
       "      <td>text/html</td>\n",
       "      <td>/channel/UC1HU4QiALfeiVYCaIE3BuiQ</td>\n",
       "    </tr>\n",
       "  </tbody>\n",
       "</table>\n",
       "</div>"
      ],
      "text/plain": [
       "                                           watch-title  interested  \\\n",
       "595  Curso de Estatística Prática - Aula 2: Organiz...         1.0   \n",
       "596                 Estatística: Prof. Carlos Henrique         0.0   \n",
       "597  Estatística para Polícia Federal 2018 - André ...         0.0   \n",
       "598  SAP-SP 2017 - Estatística - Probabilidade - Pa...         0.0   \n",
       "599  Curso de Aprofundamento em Probabilidade e Est...         1.0   \n",
       "\n",
       "        watch-view-count                            watch-time-text  \\\n",
       "595     16 visualizações             Publicado em 4 de mar. de 2020   \n",
       "596  2.225 visualizações  Transmitido ao vivo em 26 de fev. de 2019   \n",
       "597  6.567 visualizações            Publicado em 13 de ago. de 2018   \n",
       "598  5.150 visualizações            Publicado em 31 de mai. de 2017   \n",
       "599     94 visualizações            Publicado em 23 de nov. de 2018   \n",
       "\n",
       "                 content_watch-info-tag-list  \\\n",
       "595                     Ciência e tecnologia   \n",
       "596  HAAWK for a 3rd Party; HAAWK Publishing   \n",
       "597                                 Educação   \n",
       "598                                 Educação   \n",
       "599                                 Educação   \n",
       "\n",
       "                                       watch7-headline  \\\n",
       "595  EEFERPUSP Escola de Educação Física e Esporte\\...   \n",
       "596  #Estatística #AulaGratuita #ConcursoPúblico\\n\\...   \n",
       "597  #políciafederal\\n\\n\\n\\n    Estatística para Po...   \n",
       "598  SAP-SP 2017 - Estatística - Probabilidade - Pa...   \n",
       "599  Curso de Aprofundamento em Probabilidade e Est...   \n",
       "\n",
       "                                    watch7-user-header  \\\n",
       "595  Pedro Abdalla\\n\\n\\n\\n\\n\\n\\n\\n\\n\\n\\n\\n\\n\\nCarre...   \n",
       "596  Estratégia Concursos\\n\\n\\n\\n\\n\\n\\n\\n\\n\\n\\n\\n\\n...   \n",
       "597  AlfaCon Concursos Públicos\\n\\n\\n\\n\\n\\n\\n\\n\\n\\n...   \n",
       "598  LacConcursos - Canal\\n\\n\\n\\n\\n\\n\\n\\n\\n\\n\\n\\n\\n...   \n",
       "599  Alexandre Raymundo\\n\\n\\n\\n\\n\\n\\n\\n\\n\\n\\n\\n\\n\\n...   \n",
       "\n",
       "                              watch8-sentiment-actions  \\\n",
       "595  16 visualizações\\n\\n\\n\\n\\n\\n\\n\\n4\\n\\nGostou de...   \n",
       "596  2.225 visualizações\\n\\n\\n\\n\\n\\n\\n\\n105\\n\\nGost...   \n",
       "597  6.567 visualizações\\n\\n\\n\\n\\n\\n\\n\\n336\\n\\nGost...   \n",
       "598  5.150 visualizações\\n\\n\\n\\n\\n\\n\\n\\n125\\n\\nGost...   \n",
       "599  94 visualizações\\n\\n\\n\\n\\n\\n\\n\\n13\\n\\nGostou d...   \n",
       "\n",
       "                                              og:image  og:image:width  \\\n",
       "595   https://i.ytimg.com/vi/b0BfSHd8Zb8/hqdefault.jpg             480   \n",
       "596  https://i.ytimg.com/vi/P2hni68W5JE/maxresdefau...            1280   \n",
       "597  https://i.ytimg.com/vi/5VPzLt-F8HM/maxresdefau...            1280   \n",
       "598   https://i.ytimg.com/vi/JSmRb2W0rr4/hqdefault.jpg             480   \n",
       "599  https://i.ytimg.com/vi/7Jm5WGbH0BE/maxresdefau...            1280   \n",
       "\n",
       "     og:image:height                                     og:description  \\\n",
       "595              360  Aula ministrada no Grupo de Estudo e Pesquisa ...   \n",
       "596              720  Aula Gratuita de Estatística com o Prof. Carlo...   \n",
       "597              720  Professor André Arruda trabalha os principais ...   \n",
       "598              360  Curso ONLINE para o SAP SP 2017 Cargo: Agente ...   \n",
       "599              720  Clique no link abaixo para registrar-se no meu...   \n",
       "\n",
       "     og:video:width  og:video:height og:video:type  \\\n",
       "595          1280.0            720.0     text/html   \n",
       "596          1280.0            720.0     text/html   \n",
       "597          1280.0            720.0     text/html   \n",
       "598          1280.0            720.0     text/html   \n",
       "599          1280.0            720.0     text/html   \n",
       "\n",
       "                        channel_link_0  \n",
       "595  /channel/UCdtCblBFPv-D0nQnV4lBbYw  \n",
       "596  /channel/UChvwkhC3eHxJsVxW_ItDjdA  \n",
       "597  /channel/UCoihrBTsIlpFnTkJFU-kdtQ  \n",
       "598  /channel/UCaq7S526azt0duOdaRHbpkQ  \n",
       "599  /channel/UC1HU4QiALfeiVYCaIE3BuiQ  "
      ]
     },
     "execution_count": 3,
     "metadata": {},
     "output_type": "execute_result"
    }
   ],
   "source": [
    "df.tail()"
   ]
  },
  {
   "cell_type": "code",
   "execution_count": 4,
   "metadata": {},
   "outputs": [],
   "source": [
    "from sklearn.linear_model import LogisticRegression\n",
    "from sklearn.tree import DecisionTreeClassifier\n",
    "from sklearn.model_selection import train_test_split"
   ]
  },
  {
   "cell_type": "code",
   "execution_count": 5,
   "metadata": {},
   "outputs": [],
   "source": [
    "df_clean = pd.DataFrame(index=df.index)"
   ]
  },
  {
   "cell_type": "code",
   "execution_count": 6,
   "metadata": {},
   "outputs": [
    {
     "data": {
      "text/plain": [
       "0     Publicado em 3 de abr. de 2019\n",
       "1    Publicado em 23 de set. de 2019\n",
       "2    Publicado em 16 de jan. de 2019\n",
       "Name: watch-time-text, dtype: object"
      ]
     },
     "execution_count": 6,
     "metadata": {},
     "output_type": "execute_result"
    }
   ],
   "source": [
    "df[\"watch-time-text\"].head(3)"
   ]
  },
  {
   "cell_type": "code",
   "execution_count": 7,
   "metadata": {},
   "outputs": [],
   "source": [
    "date_clean = df[\"watch-time-text\"].str.extract(r\"(\\d+) de ([a-z]+)\\. de (\\d+)\")\n",
    "date_clean[0] = date_clean[0].apply(lambda x: \"0\" + str(x) if len(str(x)) == 1 else x)\n",
    "\n",
    "months_replace = {\"jan\": \"01\",\n",
    "                  \"fev\": \"02\",\n",
    "                  \"mar\": \"03\",\n",
    "                  \"abr\": \"04\",\n",
    "                  \"mai\": \"05\",\n",
    "                  \"jun\": \"06\",\n",
    "                  \"jul\": \"07\",\n",
    "                  \"ago\": \"08\",\n",
    "                  \"set\": \"09\",\n",
    "                  \"out\": \"10\",\n",
    "                  \"nov\": \"11\",\n",
    "                  \"dez\": \"12\"}\n",
    "\n",
    "date_clean[1] = date_clean[1].replace(months_replace)\n",
    "df_clean[\"date\"] = pd.to_datetime(date_clean[0] + \"/\" + date_clean[1] + \"/\" + date_clean[2], format=\"%d/%m/%Y\")"
   ]
  },
  {
   "cell_type": "code",
   "execution_count": 8,
   "metadata": {},
   "outputs": [],
   "source": [
    "df_clean[\"views\"] = df[\"watch-view-count\"].str.extract(r\"(\\d+\\.?\\d+)\", expand=False).str.replace(\".\", \"\").fillna(0).astype(int)"
   ]
  },
  {
   "cell_type": "code",
   "execution_count": null,
   "metadata": {},
   "outputs": [],
   "source": [
    "df_clean.head()"
   ]
  },
  {
   "cell_type": "code",
   "execution_count": 9,
   "metadata": {},
   "outputs": [],
   "source": [
    "features = pd.DataFrame(index=df_clean.index)\n",
    "y = df[\"interested\"].copy()"
   ]
  },
  {
   "cell_type": "code",
   "execution_count": 10,
   "metadata": {},
   "outputs": [],
   "source": [
    "features[\"tempo_desde_pub\"] = (pd.to_datetime(\"2020-04-01\") - df_clean[\"date\"]) / np.timedelta64(1, 'D')\n",
    "features[\"views\"] = df_clean[\"views\"]\n",
    "features[\"viers_por_dia\"] = features[\"views\"] / features[\"tempo_desde_pub\"]\n",
    "features = features.drop([\"tempo_desde_pub\"], axis=1)"
   ]
  },
  {
   "cell_type": "code",
   "execution_count": 11,
   "metadata": {},
   "outputs": [
    {
     "data": {
      "text/plain": [
       "<matplotlib.axes._subplots.AxesSubplot at 0x2308b29cd30>"
      ]
     },
     "execution_count": 11,
     "metadata": {},
     "output_type": "execute_result"
    }
   ],
   "source": [
    "df_clean[\"date\"].value_counts().sort_index().cumsum().plot.line(figsize=(18, 6), grid=True)\n",
    "plt.show()"
   ]
  },
  {
   "cell_type": "code",
   "execution_count": 12,
   "metadata": {},
   "outputs": [
    {
     "data": {
      "text/plain": [
       "((295, 2), (304, 2), (295,), (304,))"
      ]
     },
     "execution_count": 12,
     "metadata": {},
     "output_type": "execute_result"
    }
   ],
   "source": [
    "Xtrain, Xval = features[df_clean[\"date\"] < \"2018-10-01\"], features[df_clean[\"date\"] >= \"2018-10-01\"]\n",
    "ytrain, yval = y[df_clean[\"date\"] < \"2018-10-01\"], y[df_clean[\"date\"] >= \"2018-10-01\"]\n",
    "Xtrain.shape, Xval.shape, ytrain.shape, yval.shape"
   ]
  },
  {
   "cell_type": "code",
   "execution_count": null,
   "metadata": {},
   "outputs": [],
   "source": [
    "from sklearn.linear_model import LogisticRegression\n",
    "from sklearn.tree import DecisionTreeClassifier\n",
    "from sklearn.model_selection import train_test_split"
   ]
  },
  {
   "cell_type": "code",
   "execution_count": 13,
   "metadata": {},
   "outputs": [
    {
     "data": {
      "text/plain": [
       "DecisionTreeClassifier(ccp_alpha=0.0, class_weight='balanced', criterion='gini',\n",
       "                       max_depth=2, max_features=None, max_leaf_nodes=None,\n",
       "                       min_impurity_decrease=0.0, min_impurity_split=None,\n",
       "                       min_samples_leaf=1, min_samples_split=2,\n",
       "                       min_weight_fraction_leaf=0.0, presort='deprecated',\n",
       "                       random_state=0, splitter='best')"
      ]
     },
     "execution_count": 13,
     "metadata": {},
     "output_type": "execute_result"
    }
   ],
   "source": [
    "mdl = DecisionTreeClassifier(random_state=0, max_depth=2, class_weight=\"balanced\")\n",
    "mdl.fit(Xtrain, ytrain)"
   ]
  },
  {
   "cell_type": "code",
   "execution_count": 14,
   "metadata": {},
   "outputs": [],
   "source": [
    "p = mdl.predict_proba(Xval)[:, 1]"
   ]
  },
  {
   "cell_type": "code",
   "execution_count": 15,
   "metadata": {},
   "outputs": [],
   "source": [
    "from sklearn.metrics import roc_auc_score, average_precision_score"
   ]
  },
  {
   "cell_type": "code",
   "execution_count": 16,
   "metadata": {},
   "outputs": [
    {
     "data": {
      "text/plain": [
       "0.6827209396234418"
      ]
     },
     "execution_count": 16,
     "metadata": {},
     "output_type": "execute_result"
    }
   ],
   "source": [
    "average_precision_score(yval, p)"
   ]
  },
  {
   "cell_type": "code",
   "execution_count": 17,
   "metadata": {},
   "outputs": [
    {
     "data": {
      "text/plain": [
       "0.633563654428036"
      ]
     },
     "execution_count": 17,
     "metadata": {},
     "output_type": "execute_result"
    }
   ],
   "source": [
    "roc_auc_score(yval, p)"
   ]
  },
  {
   "cell_type": "code",
   "execution_count": 18,
   "metadata": {},
   "outputs": [],
   "source": [
    "from sklearn.tree import plot_tree"
   ]
  },
  {
   "cell_type": "code",
   "execution_count": 24,
   "metadata": {},
   "outputs": [
    {
     "data": {
      "text/plain": [
       "[Text(282.5,458.833,'viers_por_dia <= 66.222\\ngini = 0.5\\nsamples = 295\\nvalue = [147.5, 147.5]'),\n",
       " Text(141.25,275.3,'views <= 56192.5\\ngini = 0.484\\nsamples = 213\\nvalue = [127.687, 88.866]'),\n",
       " Text(70.625,91.7667,'gini = 0.49\\nsamples = 204\\nvalue = [117.78, 88.866]'),\n",
       " Text(211.875,91.7667,'gini = -0.0\\nsamples = 9\\nvalue = [9.907, 0.0]'),\n",
       " Text(423.75,275.3,'viers_por_dia <= 291.34\\ngini = 0.378\\nsamples = 82\\nvalue = [19.813, 58.634]'),\n",
       " Text(353.125,91.7667,'gini = 0.443\\nsamples = 48\\nvalue = [15.41, 31.149]'),\n",
       " Text(494.375,91.7667,'gini = 0.238\\nsamples = 34\\nvalue = [4.403, 27.484]')]"
      ]
     },
     "execution_count": 24,
     "metadata": {},
     "output_type": "execute_result"
    },
    {
     "data": {
      "image/png": "[encoded data removed]",
      "text/plain": [
       "<matplotlib.figure.Figure at 0x2308ba4ed30>"
      ]
     },
     "metadata": {
      "needs_background": "light"
     },
     "output_type": "display_data"
    }
   ],
   "source": [
    "fig, ax = plt.subplots(1, 1, figsize=(10, 10))\n",
    "plot_tree(mdl, ax=ax, feature_names=Xtrain.columns)"
   ]
  }
 ],
 "metadata": {
  "kernelspec": {
   "display_name": "Python 3",
   "language": "python",
   "name": "python3"
  },
  "language_info": {
   "codemirror_mode": {
    "name": "ipython",
    "version": 3
   },
   "file_extension": ".py",
   "mimetype": "text/x-python",
   "name": "python",
   "nbconvert_exporter": "python",
   "pygments_lexer": "ipython3",
   "version": "3.6.9"
  }
 },
 "nbformat": 4,
 "nbformat_minor": 2
}
