{
 "cells": [
  {
   "cell_type": "code",
   "execution_count": 1,
   "metadata": {},
   "outputs": [],
   "source": [
    "import pandas as pd\n",
    "import requests as rq\n",
    "import numpy as np\n",
    "import matplotlib.pyplot as plt\n",
    "import re\n",
    "from bs4 import BeautifulSoup"
   ]
  },
  {
   "cell_type": "code",
   "execution_count": null,
   "metadata": {},
   "outputs": [],
   "source": [
    "pd.set_option(\"display.max_columns\", None)"
   ]
  },
  {
   "cell_type": "code",
   "execution_count": 2,
   "metadata": {},
   "outputs": [
    {
     "data": {
      "text/plain": [
       "(600, 16)"
      ]
     },
     "execution_count": 2,
     "metadata": {},
     "output_type": "execute_result"
    }
   ],
   "source": [
    "df = pd.read_csv(\"features_selecionadas(com labels).csv\", index_col=0)\n",
    "df = df[df[\"interested\"].notnull()].reset_index(drop=True)\n",
    "df.shape"
   ]
  },
  {
   "cell_type": "code",
   "execution_count": 3,
   "metadata": {},
   "outputs": [
    {
     "data": {
      "text/html": [
       "<div>\n",
       "<style scoped>\n",
       "    .dataframe tbody tr th:only-of-type {\n",
       "        vertical-align: middle;\n",
       "    }\n",
       "\n",
       "    .dataframe tbody tr th {\n",
       "        vertical-align: top;\n",
       "    }\n",
       "\n",
       "    .dataframe thead th {\n",
       "        text-align: right;\n",
       "    }\n",
       "</style>\n",
       "<table border=\"1\" class=\"dataframe\">\n",
       "  <thead>\n",
       "    <tr style=\"text-align: right;\">\n",
       "      <th></th>\n",
       "      <th>watch-title</th>\n",
       "      <th>interested</th>\n",
       "      <th>watch-view-count</th>\n",
       "      <th>watch-time-text</th>\n",
       "      <th>content_watch-info-tag-list</th>\n",
       "      <th>watch7-headline</th>\n",
       "      <th>watch7-user-header</th>\n",
       "      <th>watch8-sentiment-actions</th>\n",
       "      <th>og:image</th>\n",
       "      <th>og:image:width</th>\n",
       "      <th>og:image:height</th>\n",
       "      <th>og:description</th>\n",
       "      <th>og:video:width</th>\n",
       "      <th>og:video:height</th>\n",
       "      <th>og:video:type</th>\n",
       "      <th>channel_link_0</th>\n",
       "    </tr>\n",
       "  </thead>\n",
       "  <tbody>\n",
       "    <tr>\n",
       "      <td>595</td>\n",
       "      <td>Curso de Estatística Prática - Aula 2: Organiz...</td>\n",
       "      <td>1.0</td>\n",
       "      <td>16 visualizações</td>\n",
       "      <td>Publicado em 4 de mar. de 2020</td>\n",
       "      <td>Ciência e tecnologia</td>\n",
       "      <td>EEFERPUSP Escola de Educação Física e Esporte\\...</td>\n",
       "      <td>Pedro Abdalla\\n\\n\\n\\n\\n\\n\\n\\n\\n\\n\\n\\n\\n\\nCarre...</td>\n",
       "      <td>16 visualizações\\n\\n\\n\\n\\n\\n\\n\\n4\\n\\nGostou de...</td>\n",
       "      <td>https://i.ytimg.com/vi/b0BfSHd8Zb8/hqdefault.jpg</td>\n",
       "      <td>480</td>\n",
       "      <td>360</td>\n",
       "      <td>Aula ministrada no Grupo de Estudo e Pesquisa ...</td>\n",
       "      <td>1280.0</td>\n",
       "      <td>720.0</td>\n",
       "      <td>text/html</td>\n",
       "      <td>/channel/UCdtCblBFPv-D0nQnV4lBbYw</td>\n",
       "    </tr>\n",
       "    <tr>\n",
       "      <td>596</td>\n",
       "      <td>Estatística: Prof. Carlos Henrique</td>\n",
       "      <td>0.0</td>\n",
       "      <td>2.225 visualizações</td>\n",
       "      <td>Transmitido ao vivo em 26 de fev. de 2019</td>\n",
       "      <td>HAAWK for a 3rd Party; HAAWK Publishing</td>\n",
       "      <td>#Estatística #AulaGratuita #ConcursoPúblico\\n\\...</td>\n",
       "      <td>Estratégia Concursos\\n\\n\\n\\n\\n\\n\\n\\n\\n\\n\\n\\n\\n...</td>\n",
       "      <td>2.225 visualizações\\n\\n\\n\\n\\n\\n\\n\\n105\\n\\nGost...</td>\n",
       "      <td>https://i.ytimg.com/vi/P2hni68W5JE/maxresdefau...</td>\n",
       "      <td>1280</td>\n",
       "      <td>720</td>\n",
       "      <td>Aula Gratuita de Estatística com o Prof. Carlo...</td>\n",
       "      <td>1280.0</td>\n",
       "      <td>720.0</td>\n",
       "      <td>text/html</td>\n",
       "      <td>/channel/UChvwkhC3eHxJsVxW_ItDjdA</td>\n",
       "    </tr>\n",
       "    <tr>\n",
       "      <td>597</td>\n",
       "      <td>Estatística para Polícia Federal 2018 - André ...</td>\n",
       "      <td>0.0</td>\n",
       "      <td>6.567 visualizações</td>\n",
       "      <td>Publicado em 13 de ago. de 2018</td>\n",
       "      <td>Educação</td>\n",
       "      <td>#políciafederal\\n\\n\\n\\n    Estatística para Po...</td>\n",
       "      <td>AlfaCon Concursos Públicos\\n\\n\\n\\n\\n\\n\\n\\n\\n\\n...</td>\n",
       "      <td>6.567 visualizações\\n\\n\\n\\n\\n\\n\\n\\n336\\n\\nGost...</td>\n",
       "      <td>https://i.ytimg.com/vi/5VPzLt-F8HM/maxresdefau...</td>\n",
       "      <td>1280</td>\n",
       "      <td>720</td>\n",
       "      <td>Professor André Arruda trabalha os principais ...</td>\n",
       "      <td>1280.0</td>\n",
       "      <td>720.0</td>\n",
       "      <td>text/html</td>\n",
       "      <td>/channel/UCoihrBTsIlpFnTkJFU-kdtQ</td>\n",
       "    </tr>\n",
       "    <tr>\n",
       "      <td>598</td>\n",
       "      <td>SAP-SP 2017 - Estatística - Probabilidade - Pa...</td>\n",
       "      <td>0.0</td>\n",
       "      <td>5.150 visualizações</td>\n",
       "      <td>Publicado em 31 de mai. de 2017</td>\n",
       "      <td>Educação</td>\n",
       "      <td>SAP-SP 2017 - Estatística - Probabilidade - Pa...</td>\n",
       "      <td>LacConcursos - Canal\\n\\n\\n\\n\\n\\n\\n\\n\\n\\n\\n\\n\\n...</td>\n",
       "      <td>5.150 visualizações\\n\\n\\n\\n\\n\\n\\n\\n125\\n\\nGost...</td>\n",
       "      <td>https://i.ytimg.com/vi/JSmRb2W0rr4/hqdefault.jpg</td>\n",
       "      <td>480</td>\n",
       "      <td>360</td>\n",
       "      <td>Curso ONLINE para o SAP SP 2017 Cargo: Agente ...</td>\n",
       "      <td>1280.0</td>\n",
       "      <td>720.0</td>\n",
       "      <td>text/html</td>\n",
       "      <td>/channel/UCaq7S526azt0duOdaRHbpkQ</td>\n",
       "    </tr>\n",
       "    <tr>\n",
       "      <td>599</td>\n",
       "      <td>Curso de Aprofundamento em Probabilidade e Est...</td>\n",
       "      <td>1.0</td>\n",
       "      <td>94 visualizações</td>\n",
       "      <td>Publicado em 23 de nov. de 2018</td>\n",
       "      <td>Educação</td>\n",
       "      <td>Curso de Aprofundamento em Probabilidade e Est...</td>\n",
       "      <td>Alexandre Raymundo\\n\\n\\n\\n\\n\\n\\n\\n\\n\\n\\n\\n\\n\\n...</td>\n",
       "      <td>94 visualizações\\n\\n\\n\\n\\n\\n\\n\\n13\\n\\nGostou d...</td>\n",
       "      <td>https://i.ytimg.com/vi/7Jm5WGbH0BE/maxresdefau...</td>\n",
       "      <td>1280</td>\n",
       "      <td>720</td>\n",
       "      <td>Clique no link abaixo para registrar-se no meu...</td>\n",
       "      <td>1280.0</td>\n",
       "      <td>720.0</td>\n",
       "      <td>text/html</td>\n",
       "      <td>/channel/UC1HU4QiALfeiVYCaIE3BuiQ</td>\n",
       "    </tr>\n",
       "  </tbody>\n",
       "</table>\n",
       "</div>"
      ],
      "text/plain": [
       "                                           watch-title  interested  \\\n",
       "595  Curso de Estatística Prática - Aula 2: Organiz...         1.0   \n",
       "596                 Estatística: Prof. Carlos Henrique         0.0   \n",
       "597  Estatística para Polícia Federal 2018 - André ...         0.0   \n",
       "598  SAP-SP 2017 - Estatística - Probabilidade - Pa...         0.0   \n",
       "599  Curso de Aprofundamento em Probabilidade e Est...         1.0   \n",
       "\n",
       "        watch-view-count                            watch-time-text  \\\n",
       "595     16 visualizações             Publicado em 4 de mar. de 2020   \n",
       "596  2.225 visualizações  Transmitido ao vivo em 26 de fev. de 2019   \n",
       "597  6.567 visualizações            Publicado em 13 de ago. de 2018   \n",
       "598  5.150 visualizações            Publicado em 31 de mai. de 2017   \n",
       "599     94 visualizações            Publicado em 23 de nov. de 2018   \n",
       "\n",
       "                 content_watch-info-tag-list  \\\n",
       "595                     Ciência e tecnologia   \n",
       "596  HAAWK for a 3rd Party; HAAWK Publishing   \n",
       "597                                 Educação   \n",
       "598                                 Educação   \n",
       "599                                 Educação   \n",
       "\n",
       "                                       watch7-headline  \\\n",
       "595  EEFERPUSP Escola de Educação Física e Esporte\\...   \n",
       "596  #Estatística #AulaGratuita #ConcursoPúblico\\n\\...   \n",
       "597  #políciafederal\\n\\n\\n\\n    Estatística para Po...   \n",
       "598  SAP-SP 2017 - Estatística - Probabilidade - Pa...   \n",
       "599  Curso de Aprofundamento em Probabilidade e Est...   \n",
       "\n",
       "                                    watch7-user-header  \\\n",
       "595  Pedro Abdalla\\n\\n\\n\\n\\n\\n\\n\\n\\n\\n\\n\\n\\n\\nCarre...   \n",
       "596  Estratégia Concursos\\n\\n\\n\\n\\n\\n\\n\\n\\n\\n\\n\\n\\n...   \n",
       "597  AlfaCon Concursos Públicos\\n\\n\\n\\n\\n\\n\\n\\n\\n\\n...   \n",
       "598  LacConcursos - Canal\\n\\n\\n\\n\\n\\n\\n\\n\\n\\n\\n\\n\\n...   \n",
       "599  Alexandre Raymundo\\n\\n\\n\\n\\n\\n\\n\\n\\n\\n\\n\\n\\n\\n...   \n",
       "\n",
       "                              watch8-sentiment-actions  \\\n",
       "595  16 visualizações\\n\\n\\n\\n\\n\\n\\n\\n4\\n\\nGostou de...   \n",
       "596  2.225 visualizações\\n\\n\\n\\n\\n\\n\\n\\n105\\n\\nGost...   \n",
       "597  6.567 visualizações\\n\\n\\n\\n\\n\\n\\n\\n336\\n\\nGost...   \n",
       "598  5.150 visualizações\\n\\n\\n\\n\\n\\n\\n\\n125\\n\\nGost...   \n",
       "599  94 visualizações\\n\\n\\n\\n\\n\\n\\n\\n13\\n\\nGostou d...   \n",
       "\n",
       "                                              og:image  og:image:width  \\\n",
       "595   https://i.ytimg.com/vi/b0BfSHd8Zb8/hqdefault.jpg             480   \n",
       "596  https://i.ytimg.com/vi/P2hni68W5JE/maxresdefau...            1280   \n",
       "597  https://i.ytimg.com/vi/5VPzLt-F8HM/maxresdefau...            1280   \n",
       "598   https://i.ytimg.com/vi/JSmRb2W0rr4/hqdefault.jpg             480   \n",
       "599  https://i.ytimg.com/vi/7Jm5WGbH0BE/maxresdefau...            1280   \n",
       "\n",
       "     og:image:height                                     og:description  \\\n",
       "595              360  Aula ministrada no Grupo de Estudo e Pesquisa ...   \n",
       "596              720  Aula Gratuita de Estatística com o Prof. Carlo...   \n",
       "597              720  Professor André Arruda trabalha os principais ...   \n",
       "598              360  Curso ONLINE para o SAP SP 2017 Cargo: Agente ...   \n",
       "599              720  Clique no link abaixo para registrar-se no meu...   \n",
       "\n",
       "     og:video:width  og:video:height og:video:type  \\\n",
       "595          1280.0            720.0     text/html   \n",
       "596          1280.0            720.0     text/html   \n",
       "597          1280.0            720.0     text/html   \n",
       "598          1280.0            720.0     text/html   \n",
       "599          1280.0            720.0     text/html   \n",
       "\n",
       "                        channel_link_0  \n",
       "595  /channel/UCdtCblBFPv-D0nQnV4lBbYw  \n",
       "596  /channel/UChvwkhC3eHxJsVxW_ItDjdA  \n",
       "597  /channel/UCoihrBTsIlpFnTkJFU-kdtQ  \n",
       "598  /channel/UCaq7S526azt0duOdaRHbpkQ  \n",
       "599  /channel/UC1HU4QiALfeiVYCaIE3BuiQ  "
      ]
     },
     "execution_count": 3,
     "metadata": {},
     "output_type": "execute_result"
    }
   ],
   "source": [
    "df.tail()"
   ]
  },
  {
   "cell_type": "code",
   "execution_count": 4,
   "metadata": {},
   "outputs": [],
   "source": [
    "from sklearn.linear_model import LogisticRegression\n",
    "from sklearn.ensemble import RandomForestClassifier\n",
    "from sklearn.model_selection import train_test_split"
   ]
  },
  {
   "cell_type": "code",
   "execution_count": 5,
   "metadata": {},
   "outputs": [],
   "source": [
    "df_clean = pd.DataFrame(index=df.index)"
   ]
  },
  {
   "cell_type": "code",
   "execution_count": 9,
   "metadata": {},
   "outputs": [
    {
     "data": {
      "text/plain": [
       "0             O que é Data Science? #HipstersPontoTube\n",
       "1    Data Science: Introdução a Ciência de Dados (P...\n",
       "2                  Como é ser data scientist no Nubank\n",
       "Name: watch-title, dtype: object"
      ]
     },
     "execution_count": 9,
     "metadata": {},
     "output_type": "execute_result"
    }
   ],
   "source": [
    "df[\"watch-title\"].head(3)"
   ]
  },
  {
   "cell_type": "code",
   "execution_count": 10,
   "metadata": {},
   "outputs": [],
   "source": [
    "df_clean[\"title\"] = df[\"watch-title\"]"
   ]
  },
  {
   "cell_type": "markdown",
   "metadata": {},
   "source": [
    "## Limpeza de Datas"
   ]
  },
  {
   "cell_type": "code",
   "execution_count": 11,
   "metadata": {},
   "outputs": [],
   "source": [
    "date_clean = df[\"watch-time-text\"].str.extract(r\"(\\d+) de ([a-z]+)\\. de (\\d+)\")\n",
    "date_clean[0] = date_clean[0].apply(lambda x: \"0\" + str(x) if len(str(x)) == 1 else x)\n",
    "\n",
    "months_replace = {\"jan\": \"01\",\n",
    "                  \"fev\": \"02\",\n",
    "                  \"mar\": \"03\",\n",
    "                  \"abr\": \"04\",\n",
    "                  \"mai\": \"05\",\n",
    "                  \"jun\": \"06\",\n",
    "                  \"jul\": \"07\",\n",
    "                  \"ago\": \"08\",\n",
    "                  \"set\": \"09\",\n",
    "                  \"out\": \"10\",\n",
    "                  \"nov\": \"11\",\n",
    "                  \"dez\": \"12\"}\n",
    "\n",
    "date_clean[1] = date_clean[1].replace(months_replace)\n",
    "df_clean[\"date\"] = pd.to_datetime(date_clean[0] + \"/\" + date_clean[1] + \"/\" + date_clean[2], format=\"%d/%m/%Y\")"
   ]
  },
  {
   "cell_type": "markdown",
   "metadata": {},
   "source": [
    "## Limpeza de Views"
   ]
  },
  {
   "cell_type": "code",
   "execution_count": 12,
   "metadata": {},
   "outputs": [],
   "source": [
    "df_clean[\"views\"] = df[\"watch-view-count\"].str.extract(r\"(\\d+\\.?\\d+)\", expand=False).str.replace(\".\", \"\").fillna(0).astype(int)"
   ]
  },
  {
   "cell_type": "code",
   "execution_count": 13,
   "metadata": {},
   "outputs": [
    {
     "data": {
      "text/html": [
       "<div>\n",
       "<style scoped>\n",
       "    .dataframe tbody tr th:only-of-type {\n",
       "        vertical-align: middle;\n",
       "    }\n",
       "\n",
       "    .dataframe tbody tr th {\n",
       "        vertical-align: top;\n",
       "    }\n",
       "\n",
       "    .dataframe thead th {\n",
       "        text-align: right;\n",
       "    }\n",
       "</style>\n",
       "<table border=\"1\" class=\"dataframe\">\n",
       "  <thead>\n",
       "    <tr style=\"text-align: right;\">\n",
       "      <th></th>\n",
       "      <th>title</th>\n",
       "      <th>date</th>\n",
       "      <th>views</th>\n",
       "    </tr>\n",
       "  </thead>\n",
       "  <tbody>\n",
       "    <tr>\n",
       "      <td>0</td>\n",
       "      <td>O que é Data Science? #HipstersPontoTube</td>\n",
       "      <td>2019-04-03</td>\n",
       "      <td>63761</td>\n",
       "    </tr>\n",
       "    <tr>\n",
       "      <td>1</td>\n",
       "      <td>Data Science: Introdução a Ciência de Dados (P...</td>\n",
       "      <td>2019-09-23</td>\n",
       "      <td>85461</td>\n",
       "    </tr>\n",
       "    <tr>\n",
       "      <td>2</td>\n",
       "      <td>Como é ser data scientist no Nubank</td>\n",
       "      <td>2019-01-16</td>\n",
       "      <td>57726</td>\n",
       "    </tr>\n",
       "    <tr>\n",
       "      <td>3</td>\n",
       "      <td>O que é ciência de dados | Nerdologia Tech</td>\n",
       "      <td>2018-07-26</td>\n",
       "      <td>272406</td>\n",
       "    </tr>\n",
       "    <tr>\n",
       "      <td>4</td>\n",
       "      <td>Como ingressar no MERCADO de DATA SCIENCE | Bi...</td>\n",
       "      <td>2019-10-21</td>\n",
       "      <td>10467</td>\n",
       "    </tr>\n",
       "  </tbody>\n",
       "</table>\n",
       "</div>"
      ],
      "text/plain": [
       "                                               title       date   views\n",
       "0           O que é Data Science? #HipstersPontoTube 2019-04-03   63761\n",
       "1  Data Science: Introdução a Ciência de Dados (P... 2019-09-23   85461\n",
       "2                Como é ser data scientist no Nubank 2019-01-16   57726\n",
       "3         O que é ciência de dados | Nerdologia Tech 2018-07-26  272406\n",
       "4  Como ingressar no MERCADO de DATA SCIENCE | Bi... 2019-10-21   10467"
      ]
     },
     "execution_count": 13,
     "metadata": {},
     "output_type": "execute_result"
    }
   ],
   "source": [
    "df_clean.head()"
   ]
  },
  {
   "cell_type": "markdown",
   "metadata": {},
   "source": [
    "## Features"
   ]
  },
  {
   "cell_type": "code",
   "execution_count": 154,
   "metadata": {},
   "outputs": [],
   "source": [
    "features = pd.DataFrame(index=df_clean.index)\n",
    "y = df[\"interested\"].copy()"
   ]
  },
  {
   "cell_type": "code",
   "execution_count": 155,
   "metadata": {},
   "outputs": [],
   "source": [
    "features[\"tempo_desde_pub\"] = (pd.to_datetime(\"2020-04-01\") - df_clean[\"date\"]) / np.timedelta64(1, 'D')\n",
    "features[\"views\"] = df_clean[\"views\"]\n",
    "features[\"views_por_dia\"] = features[\"views\"] / features[\"tempo_desde_pub\"]\n",
    "features = features.drop([\"tempo_desde_pub\"], axis=1)"
   ]
  },
  {
   "cell_type": "code",
   "execution_count": 156,
   "metadata": {},
   "outputs": [
    {
     "data": {
      "text/html": [
       "<div>\n",
       "<style scoped>\n",
       "    .dataframe tbody tr th:only-of-type {\n",
       "        vertical-align: middle;\n",
       "    }\n",
       "\n",
       "    .dataframe tbody tr th {\n",
       "        vertical-align: top;\n",
       "    }\n",
       "\n",
       "    .dataframe thead th {\n",
       "        text-align: right;\n",
       "    }\n",
       "</style>\n",
       "<table border=\"1\" class=\"dataframe\">\n",
       "  <thead>\n",
       "    <tr style=\"text-align: right;\">\n",
       "      <th></th>\n",
       "      <th>views</th>\n",
       "      <th>views_por_dia</th>\n",
       "    </tr>\n",
       "  </thead>\n",
       "  <tbody>\n",
       "    <tr>\n",
       "      <td>0</td>\n",
       "      <td>63761</td>\n",
       "      <td>175.167582</td>\n",
       "    </tr>\n",
       "    <tr>\n",
       "      <td>1</td>\n",
       "      <td>85461</td>\n",
       "      <td>447.439791</td>\n",
       "    </tr>\n",
       "    <tr>\n",
       "      <td>2</td>\n",
       "      <td>57726</td>\n",
       "      <td>130.897959</td>\n",
       "    </tr>\n",
       "    <tr>\n",
       "      <td>3</td>\n",
       "      <td>272406</td>\n",
       "      <td>442.936585</td>\n",
       "    </tr>\n",
       "    <tr>\n",
       "      <td>4</td>\n",
       "      <td>10467</td>\n",
       "      <td>64.214724</td>\n",
       "    </tr>\n",
       "  </tbody>\n",
       "</table>\n",
       "</div>"
      ],
      "text/plain": [
       "    views  views_por_dia\n",
       "0   63761     175.167582\n",
       "1   85461     447.439791\n",
       "2   57726     130.897959\n",
       "3  272406     442.936585\n",
       "4   10467      64.214724"
      ]
     },
     "execution_count": 156,
     "metadata": {},
     "output_type": "execute_result"
    }
   ],
   "source": [
    "features.head()"
   ]
  },
  {
   "cell_type": "code",
   "execution_count": 157,
   "metadata": {},
   "outputs": [
    {
     "data": {
      "text/plain": [
       "((295, 2), (304, 2), (295,), (304,))"
      ]
     },
     "execution_count": 157,
     "metadata": {},
     "output_type": "execute_result"
    }
   ],
   "source": [
    "mask_train = df_clean[\"date\"] < \"2018-10-01\"\n",
    "mask_val = df_clean[\"date\"] >= \"2018-10-01\"\n",
    "\n",
    "Xtrain, Xval = features[mask_train], features[mask_val]\n",
    "ytrain, yval = y[mask_train], y[mask_val]\n",
    "Xtrain.shape, Xval.shape, ytrain.shape, yval.shape"
   ]
  },
  {
   "cell_type": "code",
   "execution_count": 158,
   "metadata": {},
   "outputs": [],
   "source": [
    "from sklearn.feature_extraction.text import TfidfVectorizer"
   ]
  },
  {
   "cell_type": "code",
   "execution_count": 159,
   "metadata": {},
   "outputs": [],
   "source": [
    "title_train = df_clean[mask_train][\"title\"]\n",
    "title_val = df_clean[mask_val][\"title\"]"
   ]
  },
  {
   "cell_type": "code",
   "execution_count": 160,
   "metadata": {},
   "outputs": [],
   "source": [
    "title_vec = TfidfVectorizer(min_df=2)\n",
    "title_bow_train = title_vec.fit_transform(title_train)\n",
    "title_bow_val = title_vec.transform(title_val)"
   ]
  },
  {
   "cell_type": "code",
   "execution_count": 161,
   "metadata": {},
   "outputs": [
    {
     "data": {
      "text/plain": [
       "(295, 261)"
      ]
     },
     "execution_count": 161,
     "metadata": {},
     "output_type": "execute_result"
    }
   ],
   "source": [
    "title_bow_train.shape"
   ]
  },
  {
   "cell_type": "code",
   "execution_count": 162,
   "metadata": {},
   "outputs": [
    {
     "data": {
      "text/plain": [
       "<295x261 sparse matrix of type '<class 'numpy.float64'>'\n",
       "\twith 1926 stored elements in Compressed Sparse Row format>"
      ]
     },
     "execution_count": 162,
     "metadata": {},
     "output_type": "execute_result"
    }
   ],
   "source": [
    "title_bow_train"
   ]
  },
  {
   "cell_type": "code",
   "execution_count": 163,
   "metadata": {},
   "outputs": [],
   "source": [
    "from scipy.sparse import hstack, vstack"
   ]
  },
  {
   "cell_type": "code",
   "execution_count": 164,
   "metadata": {},
   "outputs": [],
   "source": [
    "Xtrain_wtitle = hstack([Xtrain, title_bow_train])\n",
    "Xval_wtitle = hstack([Xval, title_bow_val])"
   ]
  },
  {
   "cell_type": "code",
   "execution_count": 165,
   "metadata": {},
   "outputs": [
    {
     "data": {
      "text/plain": [
       "((295, 263), (304, 263))"
      ]
     },
     "execution_count": 165,
     "metadata": {},
     "output_type": "execute_result"
    }
   ],
   "source": [
    "Xtrain_wtitle.shape, Xval_wtitle.shape"
   ]
  },
  {
   "cell_type": "code",
   "execution_count": 166,
   "metadata": {},
   "outputs": [
    {
     "data": {
      "text/plain": [
       "RandomForestClassifier(bootstrap=True, ccp_alpha=0.0, class_weight='balanced',\n",
       "                       criterion='gini', max_depth=None, max_features='auto',\n",
       "                       max_leaf_nodes=None, max_samples=None,\n",
       "                       min_impurity_decrease=0.0, min_impurity_split=None,\n",
       "                       min_samples_leaf=1, min_samples_split=2,\n",
       "                       min_weight_fraction_leaf=0.0, n_estimators=1000,\n",
       "                       n_jobs=6, oob_score=False, random_state=0, verbose=0,\n",
       "                       warm_start=False)"
      ]
     },
     "execution_count": 166,
     "metadata": {},
     "output_type": "execute_result"
    }
   ],
   "source": [
    "mdl = RandomForestClassifier(n_estimators=1000, random_state=0, class_weight=\"balanced\", n_jobs=6)\n",
    "mdl.fit(Xtrain_wtitle, ytrain)"
   ]
  },
  {
   "cell_type": "code",
   "execution_count": 167,
   "metadata": {},
   "outputs": [],
   "source": [
    "p = mdl.predict_proba(Xval_wtitle)[:, 1]"
   ]
  },
  {
   "cell_type": "code",
   "execution_count": 168,
   "metadata": {},
   "outputs": [],
   "source": [
    "from sklearn.metrics import roc_auc_score, average_precision_score"
   ]
  },
  {
   "cell_type": "code",
   "execution_count": 169,
   "metadata": {},
   "outputs": [
    {
     "data": {
      "text/plain": [
       "0.7923196847300129"
      ]
     },
     "execution_count": 169,
     "metadata": {},
     "output_type": "execute_result"
    }
   ],
   "source": [
    "# Antigo: 0.68\n",
    "average_precision_score(yval, p)"
   ]
  },
  {
   "cell_type": "code",
   "execution_count": 170,
   "metadata": {},
   "outputs": [
    {
     "data": {
      "text/plain": [
       "0.7243598428397237"
      ]
     },
     "execution_count": 170,
     "metadata": {},
     "output_type": "execute_result"
    }
   ],
   "source": [
    "# Antigo: 0.63\n",
    "roc_auc_score(yval, p)"
   ]
  },
  {
   "cell_type": "code",
   "execution_count": null,
   "metadata": {},
   "outputs": [],
   "source": [
    "# Mindf=2 se saiu melhor que mindf=1 e 3\n",
    "ap 0.7558327673464535, auc 0.6818859233166237 - mindf=1\n",
    "ap 0.7923196847300129, auc 0.7243598428397237 - mindf=2\n",
    "ap 0.7837520730469235, auc 0.7177663369913743 - mindf=3"
   ]
  },
  {
   "cell_type": "markdown",
   "metadata": {},
   "source": [
    "## Active Learning"
   ]
  },
  {
   "cell_type": "markdown",
   "metadata": {},
   "source": [
    "100 exemplos que o modelo tenha dificuldade\n",
    "\n",
    "20 exemplos aleatoriamente"
   ]
  },
  {
   "cell_type": "code",
   "execution_count": 376,
   "metadata": {},
   "outputs": [
    {
     "data": {
      "text/plain": [
       "(1043, 16)"
      ]
     },
     "execution_count": 376,
     "metadata": {},
     "output_type": "execute_result"
    }
   ],
   "source": [
    "df_unlabeled = pd.read_csv(\"features_selecionadas(com labels).csv\", index_col=0)\n",
    "df_unlabeled = df_unlabeled[df_unlabeled[\"watch-title\"].notnull()]\n",
    "df_unlabeled = df_unlabeled[~df_unlabeled[\"watch-time-text\"].str.contains(\"há\")]\n",
    "df_unlabeled = df_unlabeled[df_unlabeled[\"interested\"].isnull()].dropna(how=\"all\").reset_index(drop=True)\n",
    "df_unlabeled.shape"
   ]
  },
  {
   "cell_type": "code",
   "execution_count": 377,
   "metadata": {},
   "outputs": [
    {
     "data": {
      "text/html": [
       "<div>\n",
       "<style scoped>\n",
       "    .dataframe tbody tr th:only-of-type {\n",
       "        vertical-align: middle;\n",
       "    }\n",
       "\n",
       "    .dataframe tbody tr th {\n",
       "        vertical-align: top;\n",
       "    }\n",
       "\n",
       "    .dataframe thead th {\n",
       "        text-align: right;\n",
       "    }\n",
       "</style>\n",
       "<table border=\"1\" class=\"dataframe\">\n",
       "  <thead>\n",
       "    <tr style=\"text-align: right;\">\n",
       "      <th></th>\n",
       "      <th>watch-title</th>\n",
       "      <th>interested</th>\n",
       "      <th>watch-view-count</th>\n",
       "      <th>watch-time-text</th>\n",
       "      <th>content_watch-info-tag-list</th>\n",
       "      <th>watch7-headline</th>\n",
       "      <th>watch7-user-header</th>\n",
       "      <th>watch8-sentiment-actions</th>\n",
       "      <th>og:image</th>\n",
       "      <th>og:image:width</th>\n",
       "      <th>og:image:height</th>\n",
       "      <th>og:description</th>\n",
       "      <th>og:video:width</th>\n",
       "      <th>og:video:height</th>\n",
       "      <th>og:video:type</th>\n",
       "      <th>channel_link_0</th>\n",
       "    </tr>\n",
       "  </thead>\n",
       "  <tbody>\n",
       "    <tr>\n",
       "      <td>0</td>\n",
       "      <td>Data science for the environment | Dan Hammer ...</td>\n",
       "      <td>NaN</td>\n",
       "      <td>5.139 visualizações</td>\n",
       "      <td>Publicado em 8 de mar. de 2018</td>\n",
       "      <td>Sem fins lucrativos/ativismo</td>\n",
       "      <td>Data science for the environment | Dan Hammer ...</td>\n",
       "      <td>TEDx Talks\\n\\n\\n\\n\\n\\n\\n\\n\\n\\n\\n\\n\\n\\n\\nCarreg...</td>\n",
       "      <td>5.139 visualizações\\n\\n\\n\\n\\n\\n\\n\\n148\\n\\nGost...</td>\n",
       "      <td>https://i.ytimg.com/vi/ph439t-kTIE/maxresdefau...</td>\n",
       "      <td>1280</td>\n",
       "      <td>720</td>\n",
       "      <td>Since the industrial revolution, as human tech...</td>\n",
       "      <td>1280.0</td>\n",
       "      <td>720.0</td>\n",
       "      <td>text/html</td>\n",
       "      <td>/channel/UCsT0YIqwnpJCM-mx7-gSA4Q</td>\n",
       "    </tr>\n",
       "    <tr>\n",
       "      <td>1</td>\n",
       "      <td>Master of Data Science, University of Sydney</td>\n",
       "      <td>NaN</td>\n",
       "      <td>NaN</td>\n",
       "      <td>Publicado em 29 de out. de 2015</td>\n",
       "      <td>Educação</td>\n",
       "      <td>Master of Data Science, University of Sydney</td>\n",
       "      <td>The University of Sydney\\n\\n\\n\\n\\n\\n\\n\\n\\n\\n\\n...</td>\n",
       "      <td>NaN</td>\n",
       "      <td>https://i.ytimg.com/vi/LO49IxE7QkI/hqdefault.jpg</td>\n",
       "      <td>480</td>\n",
       "      <td>360</td>\n",
       "      <td>This professional degree is for people who are...</td>\n",
       "      <td>1280.0</td>\n",
       "      <td>720.0</td>\n",
       "      <td>text/html</td>\n",
       "      <td>/channel/UChyxYzq0ZAB0iBw-A1l5jFA</td>\n",
       "    </tr>\n",
       "  </tbody>\n",
       "</table>\n",
       "</div>"
      ],
      "text/plain": [
       "                                         watch-title  interested  \\\n",
       "0  Data science for the environment | Dan Hammer ...         NaN   \n",
       "1       Master of Data Science, University of Sydney         NaN   \n",
       "\n",
       "      watch-view-count                  watch-time-text  \\\n",
       "0  5.139 visualizações   Publicado em 8 de mar. de 2018   \n",
       "1                  NaN  Publicado em 29 de out. de 2015   \n",
       "\n",
       "    content_watch-info-tag-list  \\\n",
       "0  Sem fins lucrativos/ativismo   \n",
       "1                      Educação   \n",
       "\n",
       "                                     watch7-headline  \\\n",
       "0  Data science for the environment | Dan Hammer ...   \n",
       "1       Master of Data Science, University of Sydney   \n",
       "\n",
       "                                  watch7-user-header  \\\n",
       "0  TEDx Talks\\n\\n\\n\\n\\n\\n\\n\\n\\n\\n\\n\\n\\n\\n\\nCarreg...   \n",
       "1  The University of Sydney\\n\\n\\n\\n\\n\\n\\n\\n\\n\\n\\n...   \n",
       "\n",
       "                            watch8-sentiment-actions  \\\n",
       "0  5.139 visualizações\\n\\n\\n\\n\\n\\n\\n\\n148\\n\\nGost...   \n",
       "1                                                NaN   \n",
       "\n",
       "                                            og:image  og:image:width  \\\n",
       "0  https://i.ytimg.com/vi/ph439t-kTIE/maxresdefau...            1280   \n",
       "1   https://i.ytimg.com/vi/LO49IxE7QkI/hqdefault.jpg             480   \n",
       "\n",
       "   og:image:height                                     og:description  \\\n",
       "0              720  Since the industrial revolution, as human tech...   \n",
       "1              360  This professional degree is for people who are...   \n",
       "\n",
       "   og:video:width  og:video:height og:video:type  \\\n",
       "0          1280.0            720.0     text/html   \n",
       "1          1280.0            720.0     text/html   \n",
       "\n",
       "                      channel_link_0  \n",
       "0  /channel/UCsT0YIqwnpJCM-mx7-gSA4Q  \n",
       "1  /channel/UChyxYzq0ZAB0iBw-A1l5jFA  "
      ]
     },
     "execution_count": 377,
     "metadata": {},
     "output_type": "execute_result"
    }
   ],
   "source": [
    "df_unlabeled.head(2)"
   ]
  },
  {
   "cell_type": "code",
   "execution_count": 378,
   "metadata": {},
   "outputs": [],
   "source": [
    "df_clean_u = pd.DataFrame(index=df_unlabeled.index)\n",
    "df_clean_u[\"title\"] = df_unlabeled[\"watch-title\"]"
   ]
  },
  {
   "cell_type": "markdown",
   "metadata": {},
   "source": [
    "## Limpeza de Datas"
   ]
  },
  {
   "cell_type": "code",
   "execution_count": 379,
   "metadata": {},
   "outputs": [],
   "source": [
    "date_clean = df_unlabeled[\"watch-time-text\"].str.extract(r\"(\\d+) de ([a-z]+)\\. de (\\d+)\")\n",
    "date_clean[0] = date_clean[0].apply(lambda x: \"0\" + str(x) if len(str(x)) == 1 else x)\n",
    "\n",
    "months_replace = {\"jan\": \"01\",\n",
    "                  \"fev\": \"02\",\n",
    "                  \"mar\": \"03\",\n",
    "                  \"abr\": \"04\",\n",
    "                  \"mai\": \"05\",\n",
    "                  \"jun\": \"06\",\n",
    "                  \"jul\": \"07\",\n",
    "                  \"ago\": \"08\",\n",
    "                  \"set\": \"09\",\n",
    "                  \"out\": \"10\",\n",
    "                  \"nov\": \"11\",\n",
    "                  \"dez\": \"12\"}\n",
    "\n",
    "date_clean[1] = date_clean[1].replace(months_replace)\n",
    "df_clean_u[\"date\"] = pd.to_datetime(date_clean[0] + \"/\" + date_clean[1] + \"/\" + date_clean[2], format=\"%d/%m/%Y\")"
   ]
  },
  {
   "cell_type": "code",
   "execution_count": 380,
   "metadata": {},
   "outputs": [],
   "source": [
    "df_clean_u = df_clean_u.dropna().reset_index(drop=True)"
   ]
  },
  {
   "cell_type": "code",
   "execution_count": 381,
   "metadata": {},
   "outputs": [
    {
     "data": {
      "text/html": [
       "<div>\n",
       "<style scoped>\n",
       "    .dataframe tbody tr th:only-of-type {\n",
       "        vertical-align: middle;\n",
       "    }\n",
       "\n",
       "    .dataframe tbody tr th {\n",
       "        vertical-align: top;\n",
       "    }\n",
       "\n",
       "    .dataframe thead th {\n",
       "        text-align: right;\n",
       "    }\n",
       "</style>\n",
       "<table border=\"1\" class=\"dataframe\">\n",
       "  <thead>\n",
       "    <tr style=\"text-align: right;\">\n",
       "      <th></th>\n",
       "      <th>title</th>\n",
       "      <th>date</th>\n",
       "    </tr>\n",
       "  </thead>\n",
       "  <tbody>\n",
       "    <tr>\n",
       "      <td>0</td>\n",
       "      <td>Data science for the environment | Dan Hammer ...</td>\n",
       "      <td>2018-03-08</td>\n",
       "    </tr>\n",
       "    <tr>\n",
       "      <td>1</td>\n",
       "      <td>Master of Data Science, University of Sydney</td>\n",
       "      <td>2015-10-29</td>\n",
       "    </tr>\n",
       "    <tr>\n",
       "      <td>2</td>\n",
       "      <td>How to Make a Data Science Project with Kaggle...</td>\n",
       "      <td>2018-07-03</td>\n",
       "    </tr>\n",
       "    <tr>\n",
       "      <td>3</td>\n",
       "      <td>Data Science: R ou Python? Escolhendo sua Ling...</td>\n",
       "      <td>2017-09-21</td>\n",
       "    </tr>\n",
       "    <tr>\n",
       "      <td>4</td>\n",
       "      <td>What is data science In telugu-డేటా సైన్స్ అంట...</td>\n",
       "      <td>2017-10-16</td>\n",
       "    </tr>\n",
       "  </tbody>\n",
       "</table>\n",
       "</div>"
      ],
      "text/plain": [
       "                                               title       date\n",
       "0  Data science for the environment | Dan Hammer ... 2018-03-08\n",
       "1       Master of Data Science, University of Sydney 2015-10-29\n",
       "2  How to Make a Data Science Project with Kaggle... 2018-07-03\n",
       "3  Data Science: R ou Python? Escolhendo sua Ling... 2017-09-21\n",
       "4  What is data science In telugu-డేటా సైన్స్ అంట... 2017-10-16"
      ]
     },
     "execution_count": 381,
     "metadata": {},
     "output_type": "execute_result"
    }
   ],
   "source": [
    "df_clean_u.head()"
   ]
  },
  {
   "cell_type": "markdown",
   "metadata": {},
   "source": [
    "## Limpeza de Views"
   ]
  },
  {
   "cell_type": "code",
   "execution_count": 382,
   "metadata": {},
   "outputs": [],
   "source": [
    "df_clean_u[\"views\"] = df_unlabeled[\"watch-view-count\"].str.extract(r\"(\\d+\\.?\\d+)\", expand=False).str.replace(\".\", \"\").fillna(0).astype(int)"
   ]
  },
  {
   "cell_type": "code",
   "execution_count": 383,
   "metadata": {},
   "outputs": [
    {
     "data": {
      "text/html": [
       "<div>\n",
       "<style scoped>\n",
       "    .dataframe tbody tr th:only-of-type {\n",
       "        vertical-align: middle;\n",
       "    }\n",
       "\n",
       "    .dataframe tbody tr th {\n",
       "        vertical-align: top;\n",
       "    }\n",
       "\n",
       "    .dataframe thead th {\n",
       "        text-align: right;\n",
       "    }\n",
       "</style>\n",
       "<table border=\"1\" class=\"dataframe\">\n",
       "  <thead>\n",
       "    <tr style=\"text-align: right;\">\n",
       "      <th></th>\n",
       "      <th>title</th>\n",
       "      <th>date</th>\n",
       "      <th>views</th>\n",
       "    </tr>\n",
       "  </thead>\n",
       "  <tbody>\n",
       "    <tr>\n",
       "      <td>0</td>\n",
       "      <td>Data science for the environment | Dan Hammer ...</td>\n",
       "      <td>2018-03-08</td>\n",
       "      <td>5139</td>\n",
       "    </tr>\n",
       "    <tr>\n",
       "      <td>1</td>\n",
       "      <td>Master of Data Science, University of Sydney</td>\n",
       "      <td>2015-10-29</td>\n",
       "      <td>0</td>\n",
       "    </tr>\n",
       "    <tr>\n",
       "      <td>2</td>\n",
       "      <td>How to Make a Data Science Project with Kaggle...</td>\n",
       "      <td>2018-07-03</td>\n",
       "      <td>80683</td>\n",
       "    </tr>\n",
       "    <tr>\n",
       "      <td>3</td>\n",
       "      <td>Data Science: R ou Python? Escolhendo sua Ling...</td>\n",
       "      <td>2017-09-21</td>\n",
       "      <td>27120</td>\n",
       "    </tr>\n",
       "    <tr>\n",
       "      <td>4</td>\n",
       "      <td>What is data science In telugu-డేటా సైన్స్ అంట...</td>\n",
       "      <td>2017-10-16</td>\n",
       "      <td>44951</td>\n",
       "    </tr>\n",
       "  </tbody>\n",
       "</table>\n",
       "</div>"
      ],
      "text/plain": [
       "                                               title       date  views\n",
       "0  Data science for the environment | Dan Hammer ... 2018-03-08   5139\n",
       "1       Master of Data Science, University of Sydney 2015-10-29      0\n",
       "2  How to Make a Data Science Project with Kaggle... 2018-07-03  80683\n",
       "3  Data Science: R ou Python? Escolhendo sua Ling... 2017-09-21  27120\n",
       "4  What is data science In telugu-డేటా సైన్స్ అంట... 2017-10-16  44951"
      ]
     },
     "execution_count": 383,
     "metadata": {},
     "output_type": "execute_result"
    }
   ],
   "source": [
    "df_clean_u.head()"
   ]
  },
  {
   "cell_type": "markdown",
   "metadata": {},
   "source": [
    "## Features"
   ]
  },
  {
   "cell_type": "code",
   "execution_count": 384,
   "metadata": {},
   "outputs": [],
   "source": [
    "features_u = pd.DataFrame(index=df_clean_u.index)"
   ]
  },
  {
   "cell_type": "code",
   "execution_count": 385,
   "metadata": {},
   "outputs": [],
   "source": [
    "features_u[\"tempo_desde_pub\"] = (pd.to_datetime(\"2020-04-01\") - df_clean_u[\"date\"]) / np.timedelta64(1, 'D')\n",
    "features_u[\"views\"] = df_clean_u[\"views\"]\n",
    "features_u[\"views_por_dia\"] = features_u[\"views\"] / features_u[\"tempo_desde_pub\"]\n",
    "features_u = features_u.drop([\"tempo_desde_pub\"], axis=1)"
   ]
  },
  {
   "cell_type": "code",
   "execution_count": 386,
   "metadata": {},
   "outputs": [
    {
     "data": {
      "text/html": [
       "<div>\n",
       "<style scoped>\n",
       "    .dataframe tbody tr th:only-of-type {\n",
       "        vertical-align: middle;\n",
       "    }\n",
       "\n",
       "    .dataframe tbody tr th {\n",
       "        vertical-align: top;\n",
       "    }\n",
       "\n",
       "    .dataframe thead th {\n",
       "        text-align: right;\n",
       "    }\n",
       "</style>\n",
       "<table border=\"1\" class=\"dataframe\">\n",
       "  <thead>\n",
       "    <tr style=\"text-align: right;\">\n",
       "      <th></th>\n",
       "      <th>views</th>\n",
       "      <th>views_por_dia</th>\n",
       "    </tr>\n",
       "  </thead>\n",
       "  <tbody>\n",
       "    <tr>\n",
       "      <td>0</td>\n",
       "      <td>5139</td>\n",
       "      <td>6.806623</td>\n",
       "    </tr>\n",
       "    <tr>\n",
       "      <td>1</td>\n",
       "      <td>0</td>\n",
       "      <td>0.000000</td>\n",
       "    </tr>\n",
       "    <tr>\n",
       "      <td>2</td>\n",
       "      <td>80683</td>\n",
       "      <td>126.462382</td>\n",
       "    </tr>\n",
       "    <tr>\n",
       "      <td>3</td>\n",
       "      <td>27120</td>\n",
       "      <td>29.382449</td>\n",
       "    </tr>\n",
       "    <tr>\n",
       "      <td>4</td>\n",
       "      <td>44951</td>\n",
       "      <td>50.056793</td>\n",
       "    </tr>\n",
       "  </tbody>\n",
       "</table>\n",
       "</div>"
      ],
      "text/plain": [
       "   views  views_por_dia\n",
       "0   5139       6.806623\n",
       "1      0       0.000000\n",
       "2  80683     126.462382\n",
       "3  27120      29.382449\n",
       "4  44951      50.056793"
      ]
     },
     "execution_count": 386,
     "metadata": {},
     "output_type": "execute_result"
    }
   ],
   "source": [
    "features_u.head()"
   ]
  },
  {
   "cell_type": "code",
   "execution_count": 387,
   "metadata": {},
   "outputs": [],
   "source": [
    "title_u = df_clean_u[\"title\"]\n",
    "title_bow_u = title_vec.transform(title_u)"
   ]
  },
  {
   "cell_type": "code",
   "execution_count": 388,
   "metadata": {},
   "outputs": [
    {
     "data": {
      "text/plain": [
       "<1043x261 sparse matrix of type '<class 'numpy.float64'>'\n",
       "\twith 4556 stored elements in Compressed Sparse Row format>"
      ]
     },
     "execution_count": 388,
     "metadata": {},
     "output_type": "execute_result"
    }
   ],
   "source": [
    "title_bow_u"
   ]
  },
  {
   "cell_type": "code",
   "execution_count": 389,
   "metadata": {},
   "outputs": [],
   "source": [
    "Xu_wtitle = hstack([features_u, title_bow_u])"
   ]
  },
  {
   "cell_type": "code",
   "execution_count": 390,
   "metadata": {},
   "outputs": [
    {
     "data": {
      "text/plain": [
       "<1043x263 sparse matrix of type '<class 'numpy.float64'>'\n",
       "\twith 6510 stored elements in COOrdinate format>"
      ]
     },
     "execution_count": 390,
     "metadata": {},
     "output_type": "execute_result"
    }
   ],
   "source": [
    "Xu_wtitle"
   ]
  },
  {
   "cell_type": "code",
   "execution_count": 391,
   "metadata": {},
   "outputs": [],
   "source": [
    "pu = mdl.predict_proba(Xu_wtitle)[:, 1]"
   ]
  },
  {
   "cell_type": "code",
   "execution_count": 392,
   "metadata": {},
   "outputs": [],
   "source": [
    "df_unlabeled[\"p\"] = pu"
   ]
  },
  {
   "cell_type": "code",
   "execution_count": 393,
   "metadata": {},
   "outputs": [
    {
     "data": {
      "text/html": [
       "<div>\n",
       "<style scoped>\n",
       "    .dataframe tbody tr th:only-of-type {\n",
       "        vertical-align: middle;\n",
       "    }\n",
       "\n",
       "    .dataframe tbody tr th {\n",
       "        vertical-align: top;\n",
       "    }\n",
       "\n",
       "    .dataframe thead th {\n",
       "        text-align: right;\n",
       "    }\n",
       "</style>\n",
       "<table border=\"1\" class=\"dataframe\">\n",
       "  <thead>\n",
       "    <tr style=\"text-align: right;\">\n",
       "      <th></th>\n",
       "      <th>watch-title</th>\n",
       "      <th>interested</th>\n",
       "      <th>watch-view-count</th>\n",
       "      <th>watch-time-text</th>\n",
       "      <th>content_watch-info-tag-list</th>\n",
       "      <th>watch7-headline</th>\n",
       "      <th>watch7-user-header</th>\n",
       "      <th>watch8-sentiment-actions</th>\n",
       "      <th>og:image</th>\n",
       "      <th>og:image:width</th>\n",
       "      <th>og:image:height</th>\n",
       "      <th>og:description</th>\n",
       "      <th>og:video:width</th>\n",
       "      <th>og:video:height</th>\n",
       "      <th>og:video:type</th>\n",
       "      <th>channel_link_0</th>\n",
       "      <th>p</th>\n",
       "    </tr>\n",
       "  </thead>\n",
       "  <tbody>\n",
       "    <tr>\n",
       "      <td>0</td>\n",
       "      <td>Data science for the environment | Dan Hammer ...</td>\n",
       "      <td>NaN</td>\n",
       "      <td>5.139 visualizações</td>\n",
       "      <td>Publicado em 8 de mar. de 2018</td>\n",
       "      <td>Sem fins lucrativos/ativismo</td>\n",
       "      <td>Data science for the environment | Dan Hammer ...</td>\n",
       "      <td>TEDx Talks\\n\\n\\n\\n\\n\\n\\n\\n\\n\\n\\n\\n\\n\\n\\nCarreg...</td>\n",
       "      <td>5.139 visualizações\\n\\n\\n\\n\\n\\n\\n\\n148\\n\\nGost...</td>\n",
       "      <td>https://i.ytimg.com/vi/ph439t-kTIE/maxresdefau...</td>\n",
       "      <td>1280</td>\n",
       "      <td>720</td>\n",
       "      <td>Since the industrial revolution, as human tech...</td>\n",
       "      <td>1280.0</td>\n",
       "      <td>720.0</td>\n",
       "      <td>text/html</td>\n",
       "      <td>/channel/UCsT0YIqwnpJCM-mx7-gSA4Q</td>\n",
       "      <td>0.707</td>\n",
       "    </tr>\n",
       "    <tr>\n",
       "      <td>1</td>\n",
       "      <td>Master of Data Science, University of Sydney</td>\n",
       "      <td>NaN</td>\n",
       "      <td>NaN</td>\n",
       "      <td>Publicado em 29 de out. de 2015</td>\n",
       "      <td>Educação</td>\n",
       "      <td>Master of Data Science, University of Sydney</td>\n",
       "      <td>The University of Sydney\\n\\n\\n\\n\\n\\n\\n\\n\\n\\n\\n...</td>\n",
       "      <td>NaN</td>\n",
       "      <td>https://i.ytimg.com/vi/LO49IxE7QkI/hqdefault.jpg</td>\n",
       "      <td>480</td>\n",
       "      <td>360</td>\n",
       "      <td>This professional degree is for people who are...</td>\n",
       "      <td>1280.0</td>\n",
       "      <td>720.0</td>\n",
       "      <td>text/html</td>\n",
       "      <td>/channel/UChyxYzq0ZAB0iBw-A1l5jFA</td>\n",
       "      <td>0.693</td>\n",
       "    </tr>\n",
       "    <tr>\n",
       "      <td>2</td>\n",
       "      <td>How to Make a Data Science Project with Kaggle...</td>\n",
       "      <td>NaN</td>\n",
       "      <td>80.683 visualizações</td>\n",
       "      <td>Publicado em 3 de jul. de 2018</td>\n",
       "      <td>Ciência e tecnologia</td>\n",
       "      <td>How to Make a Data Science Project with Kaggle...</td>\n",
       "      <td>Google Cloud Platform\\n\\n\\n\\n\\n\\n\\n\\n\\n\\n\\n\\n\\...</td>\n",
       "      <td>80.683 visualizações\\n\\n\\n\\n\\n\\n\\n\\n1.866\\n\\nG...</td>\n",
       "      <td>https://i.ytimg.com/vi/m2DfpM6MyB8/maxresdefau...</td>\n",
       "      <td>1280</td>\n",
       "      <td>720</td>\n",
       "      <td>It can take a lot of tools to do data science,...</td>\n",
       "      <td>1280.0</td>\n",
       "      <td>720.0</td>\n",
       "      <td>text/html</td>\n",
       "      <td>/channel/UCJS9pqu9BzkAMNTmzNMNhvg</td>\n",
       "      <td>0.858</td>\n",
       "    </tr>\n",
       "    <tr>\n",
       "      <td>3</td>\n",
       "      <td>Data Science: R ou Python? Escolhendo sua Ling...</td>\n",
       "      <td>NaN</td>\n",
       "      <td>27.120 visualizações</td>\n",
       "      <td>Publicado em 21 de set. de 2017</td>\n",
       "      <td>Pessoas e blogs</td>\n",
       "      <td>Data Science: R ou Python? Escolhendo sua Ling...</td>\n",
       "      <td>DataScience Brasil\\n\\n\\n\\n\\n\\n\\n\\n\\n\\n\\n\\n\\n\\n...</td>\n",
       "      <td>27.120 visualizações\\n\\n\\n\\n\\n\\n\\n\\n1.250\\n\\nG...</td>\n",
       "      <td>https://i.ytimg.com/vi/bpUcyG184cc/maxresdefau...</td>\n",
       "      <td>1280</td>\n",
       "      <td>720</td>\n",
       "      <td>Datacamp (cursos introdutórios gratuitos em R ...</td>\n",
       "      <td>1280.0</td>\n",
       "      <td>720.0</td>\n",
       "      <td>text/html</td>\n",
       "      <td>/channel/UCncbt0V8HWUf4ARv97ECc-g</td>\n",
       "      <td>0.793</td>\n",
       "    </tr>\n",
       "    <tr>\n",
       "      <td>4</td>\n",
       "      <td>What is data science In telugu-డేటా సైన్స్ అంట...</td>\n",
       "      <td>NaN</td>\n",
       "      <td>44.951 visualizações</td>\n",
       "      <td>Publicado em 16 de out. de 2017</td>\n",
       "      <td>Educação</td>\n",
       "      <td>What is data science In telugu-డేటా సైన్స్ అంట...</td>\n",
       "      <td>VLR Training\\n\\n\\n\\n\\n\\n\\n\\n\\n\\n\\n\\n\\n\\nCarreg...</td>\n",
       "      <td>44.951 visualizações\\n\\n\\n\\n\\n\\n\\n\\n433\\n\\nGos...</td>\n",
       "      <td>https://i.ytimg.com/vi/bM58Js0m-2A/hqdefault.jpg</td>\n",
       "      <td>480</td>\n",
       "      <td>360</td>\n",
       "      <td>data science training python videos, datacamp ...</td>\n",
       "      <td>960.0</td>\n",
       "      <td>720.0</td>\n",
       "      <td>text/html</td>\n",
       "      <td>/channel/UCBgofU0cs7Mv-1UDmqISP4Q</td>\n",
       "      <td>0.791</td>\n",
       "    </tr>\n",
       "  </tbody>\n",
       "</table>\n",
       "</div>"
      ],
      "text/plain": [
       "                                         watch-title  interested  \\\n",
       "0  Data science for the environment | Dan Hammer ...         NaN   \n",
       "1       Master of Data Science, University of Sydney         NaN   \n",
       "2  How to Make a Data Science Project with Kaggle...         NaN   \n",
       "3  Data Science: R ou Python? Escolhendo sua Ling...         NaN   \n",
       "4  What is data science In telugu-డేటా సైన్స్ అంట...         NaN   \n",
       "\n",
       "       watch-view-count                  watch-time-text  \\\n",
       "0   5.139 visualizações   Publicado em 8 de mar. de 2018   \n",
       "1                   NaN  Publicado em 29 de out. de 2015   \n",
       "2  80.683 visualizações   Publicado em 3 de jul. de 2018   \n",
       "3  27.120 visualizações  Publicado em 21 de set. de 2017   \n",
       "4  44.951 visualizações  Publicado em 16 de out. de 2017   \n",
       "\n",
       "    content_watch-info-tag-list  \\\n",
       "0  Sem fins lucrativos/ativismo   \n",
       "1                      Educação   \n",
       "2          Ciência e tecnologia   \n",
       "3               Pessoas e blogs   \n",
       "4                      Educação   \n",
       "\n",
       "                                     watch7-headline  \\\n",
       "0  Data science for the environment | Dan Hammer ...   \n",
       "1       Master of Data Science, University of Sydney   \n",
       "2  How to Make a Data Science Project with Kaggle...   \n",
       "3  Data Science: R ou Python? Escolhendo sua Ling...   \n",
       "4  What is data science In telugu-డేటా సైన్స్ అంట...   \n",
       "\n",
       "                                  watch7-user-header  \\\n",
       "0  TEDx Talks\\n\\n\\n\\n\\n\\n\\n\\n\\n\\n\\n\\n\\n\\n\\nCarreg...   \n",
       "1  The University of Sydney\\n\\n\\n\\n\\n\\n\\n\\n\\n\\n\\n...   \n",
       "2  Google Cloud Platform\\n\\n\\n\\n\\n\\n\\n\\n\\n\\n\\n\\n\\...   \n",
       "3  DataScience Brasil\\n\\n\\n\\n\\n\\n\\n\\n\\n\\n\\n\\n\\n\\n...   \n",
       "4  VLR Training\\n\\n\\n\\n\\n\\n\\n\\n\\n\\n\\n\\n\\n\\nCarreg...   \n",
       "\n",
       "                            watch8-sentiment-actions  \\\n",
       "0  5.139 visualizações\\n\\n\\n\\n\\n\\n\\n\\n148\\n\\nGost...   \n",
       "1                                                NaN   \n",
       "2  80.683 visualizações\\n\\n\\n\\n\\n\\n\\n\\n1.866\\n\\nG...   \n",
       "3  27.120 visualizações\\n\\n\\n\\n\\n\\n\\n\\n1.250\\n\\nG...   \n",
       "4  44.951 visualizações\\n\\n\\n\\n\\n\\n\\n\\n433\\n\\nGos...   \n",
       "\n",
       "                                            og:image  og:image:width  \\\n",
       "0  https://i.ytimg.com/vi/ph439t-kTIE/maxresdefau...            1280   \n",
       "1   https://i.ytimg.com/vi/LO49IxE7QkI/hqdefault.jpg             480   \n",
       "2  https://i.ytimg.com/vi/m2DfpM6MyB8/maxresdefau...            1280   \n",
       "3  https://i.ytimg.com/vi/bpUcyG184cc/maxresdefau...            1280   \n",
       "4   https://i.ytimg.com/vi/bM58Js0m-2A/hqdefault.jpg             480   \n",
       "\n",
       "   og:image:height                                     og:description  \\\n",
       "0              720  Since the industrial revolution, as human tech...   \n",
       "1              360  This professional degree is for people who are...   \n",
       "2              720  It can take a lot of tools to do data science,...   \n",
       "3              720  Datacamp (cursos introdutórios gratuitos em R ...   \n",
       "4              360  data science training python videos, datacamp ...   \n",
       "\n",
       "   og:video:width  og:video:height og:video:type  \\\n",
       "0          1280.0            720.0     text/html   \n",
       "1          1280.0            720.0     text/html   \n",
       "2          1280.0            720.0     text/html   \n",
       "3          1280.0            720.0     text/html   \n",
       "4           960.0            720.0     text/html   \n",
       "\n",
       "                      channel_link_0      p  \n",
       "0  /channel/UCsT0YIqwnpJCM-mx7-gSA4Q  0.707  \n",
       "1  /channel/UChyxYzq0ZAB0iBw-A1l5jFA  0.693  \n",
       "2  /channel/UCJS9pqu9BzkAMNTmzNMNhvg  0.858  \n",
       "3  /channel/UCncbt0V8HWUf4ARv97ECc-g  0.793  \n",
       "4  /channel/UCBgofU0cs7Mv-1UDmqISP4Q  0.791  "
      ]
     },
     "execution_count": 393,
     "metadata": {},
     "output_type": "execute_result"
    }
   ],
   "source": [
    "df_unlabeled.head(5)"
   ]
  },
  {
   "cell_type": "code",
   "execution_count": 395,
   "metadata": {},
   "outputs": [
    {
     "data": {
      "text/plain": [
       "107"
      ]
     },
     "execution_count": 395,
     "metadata": {},
     "output_type": "execute_result"
    }
   ],
   "source": [
    "mask_u = (df_unlabeled[\"p\"] >= 0.46) & (df_unlabeled[\"p\"] <= 0.53)\n",
    "mask_u.sum()"
   ]
  },
  {
   "cell_type": "code",
   "execution_count": 397,
   "metadata": {},
   "outputs": [
    {
     "data": {
      "text/html": [
       "<div>\n",
       "<style scoped>\n",
       "    .dataframe tbody tr th:only-of-type {\n",
       "        vertical-align: middle;\n",
       "    }\n",
       "\n",
       "    .dataframe tbody tr th {\n",
       "        vertical-align: top;\n",
       "    }\n",
       "\n",
       "    .dataframe thead th {\n",
       "        text-align: right;\n",
       "    }\n",
       "</style>\n",
       "<table border=\"1\" class=\"dataframe\">\n",
       "  <thead>\n",
       "    <tr style=\"text-align: right;\">\n",
       "      <th></th>\n",
       "      <th>watch-title</th>\n",
       "      <th>interested</th>\n",
       "      <th>watch-view-count</th>\n",
       "      <th>watch-time-text</th>\n",
       "      <th>content_watch-info-tag-list</th>\n",
       "      <th>watch7-headline</th>\n",
       "      <th>watch7-user-header</th>\n",
       "      <th>watch8-sentiment-actions</th>\n",
       "      <th>og:image</th>\n",
       "      <th>og:image:width</th>\n",
       "      <th>og:image:height</th>\n",
       "      <th>og:description</th>\n",
       "      <th>og:video:width</th>\n",
       "      <th>og:video:height</th>\n",
       "      <th>og:video:type</th>\n",
       "      <th>channel_link_0</th>\n",
       "      <th>p</th>\n",
       "    </tr>\n",
       "  </thead>\n",
       "  <tbody>\n",
       "    <tr>\n",
       "      <td>30</td>\n",
       "      <td>Introduction to Data, Analytics, and Machine L...</td>\n",
       "      <td>NaN</td>\n",
       "      <td>8.159 visualizações</td>\n",
       "      <td>Publicado em 31 de jul. de 2018</td>\n",
       "      <td>Ciência e tecnologia</td>\n",
       "      <td>Introduction to Data, Analytics, and Machine L...</td>\n",
       "      <td>IBM Data and AI\\n\\n\\n\\n\\n\\n\\n\\n\\n\\n\\n\\n\\n\\nCar...</td>\n",
       "      <td>8.159 visualizações\\n\\n\\n\\n\\n\\n\\n\\n226\\n\\nGost...</td>\n",
       "      <td>https://i.ytimg.com/vi/Db24-JRN3ls/maxresdefau...</td>\n",
       "      <td>1280</td>\n",
       "      <td>720</td>\n",
       "      <td>Data, analytics and machine learning are the f...</td>\n",
       "      <td>1280.0</td>\n",
       "      <td>720.0</td>\n",
       "      <td>text/html</td>\n",
       "      <td>/channel/UCJTuksne41vNVFxzyZDJodQ</td>\n",
       "      <td>0.499</td>\n",
       "    </tr>\n",
       "    <tr>\n",
       "      <td>41</td>\n",
       "      <td>Data Science – Baba Brinkman Music Video</td>\n",
       "      <td>NaN</td>\n",
       "      <td>22.043 visualizações</td>\n",
       "      <td>Publicado em 21 de out. de 2019</td>\n",
       "      <td>Música</td>\n",
       "      <td>Data Science – Baba Brinkman Music Video</td>\n",
       "      <td>Baba Brinkman\\n\\n\\n\\n\\n\\n\\n\\n\\n\\n\\n\\n\\n\\nCarre...</td>\n",
       "      <td>22.043 visualizações\\n\\n\\n\\n\\n\\n\\n\\n734\\n\\nGos...</td>\n",
       "      <td>https://i.ytimg.com/vi/uHGlCi9jOWY/maxresdefau...</td>\n",
       "      <td>1280</td>\n",
       "      <td>720</td>\n",
       "      <td>Rap battle between a data scientist and a clas...</td>\n",
       "      <td>1280.0</td>\n",
       "      <td>720.0</td>\n",
       "      <td>text/html</td>\n",
       "      <td>/channel/UCz9Qm66ewnY0LAlZlL4HK9g</td>\n",
       "      <td>0.494</td>\n",
       "    </tr>\n",
       "    <tr>\n",
       "      <td>45</td>\n",
       "      <td>Data Science Careers at McKinsey Analytics</td>\n",
       "      <td>NaN</td>\n",
       "      <td>44.466 visualizações</td>\n",
       "      <td>Publicado em 15 de set. de 2017</td>\n",
       "      <td>Notícias e política</td>\n",
       "      <td>Data Science Careers at McKinsey Analytics</td>\n",
       "      <td>McKinsey &amp; Company\\n\\n\\n\\n\\n\\n\\n\\n\\n\\n\\n\\n\\n\\n...</td>\n",
       "      <td>44.466 visualizações\\n\\n\\n\\n\\n\\n\\n\\n484\\n\\nGos...</td>\n",
       "      <td>https://i.ytimg.com/vi/86o159AdZvs/maxresdefau...</td>\n",
       "      <td>1280</td>\n",
       "      <td>720</td>\n",
       "      <td>At McKinsey Analytics, we help clients harness...</td>\n",
       "      <td>1280.0</td>\n",
       "      <td>720.0</td>\n",
       "      <td>text/html</td>\n",
       "      <td>/channel/UCQMqUlg362Hhar_iCZ9tcjQ</td>\n",
       "      <td>0.460</td>\n",
       "    </tr>\n",
       "    <tr>\n",
       "      <td>47</td>\n",
       "      <td>Rethinking Business: Data Analytics With Googl...</td>\n",
       "      <td>NaN</td>\n",
       "      <td>5.780 visualizações</td>\n",
       "      <td>Publicado em 10 de abr. de 2019</td>\n",
       "      <td>Ciência e tecnologia</td>\n",
       "      <td>Rethinking Business: Data Analytics With Googl...</td>\n",
       "      <td>G Suite\\n\\n\\n\\n\\n\\n\\n\\n\\n\\n\\n\\n\\n\\nCarregando....</td>\n",
       "      <td>5.780 visualizações\\n\\n\\n\\n\\n\\n\\n\\n79\\n\\nGosto...</td>\n",
       "      <td>https://i.ytimg.com/vi/DpngHc31a5Y/maxresdefau...</td>\n",
       "      <td>1280</td>\n",
       "      <td>720</td>\n",
       "      <td>People, process, &amp; technology: these universal...</td>\n",
       "      <td>1280.0</td>\n",
       "      <td>720.0</td>\n",
       "      <td>text/html</td>\n",
       "      <td>/channel/UCBmwzQnSoj9b6HzNmFrg_yw</td>\n",
       "      <td>0.473</td>\n",
       "    </tr>\n",
       "    <tr>\n",
       "      <td>56</td>\n",
       "      <td>DATA SCIENCE BOOTCAMPS: GOOD OR BAD?</td>\n",
       "      <td>NaN</td>\n",
       "      <td>44.306 visualizações</td>\n",
       "      <td>Publicado em 21 de fev. de 2019</td>\n",
       "      <td>Entretenimento</td>\n",
       "      <td>DATA SCIENCE BOOTCAMPS: GOOD OR BAD?</td>\n",
       "      <td>Python Programmer\\n\\n\\n\\n\\n\\n\\n\\n\\n\\n\\n\\n\\n\\nC...</td>\n",
       "      <td>44.306 visualizações\\n\\n\\n\\n\\n\\n\\n\\n1.230\\n\\nG...</td>\n",
       "      <td>https://i.ytimg.com/vi/zLSpuOWwmvE/maxresdefau...</td>\n",
       "      <td>1280</td>\n",
       "      <td>720</td>\n",
       "      <td>My opinion on Data Science Bootcamps. Free boo...</td>\n",
       "      <td>1280.0</td>\n",
       "      <td>720.0</td>\n",
       "      <td>text/html</td>\n",
       "      <td>/channel/UC68KSmHePPePCjW4v57VPQg</td>\n",
       "      <td>0.517</td>\n",
       "    </tr>\n",
       "    <tr>\n",
       "      <td>...</td>\n",
       "      <td>...</td>\n",
       "      <td>...</td>\n",
       "      <td>...</td>\n",
       "      <td>...</td>\n",
       "      <td>...</td>\n",
       "      <td>...</td>\n",
       "      <td>...</td>\n",
       "      <td>...</td>\n",
       "      <td>...</td>\n",
       "      <td>...</td>\n",
       "      <td>...</td>\n",
       "      <td>...</td>\n",
       "      <td>...</td>\n",
       "      <td>...</td>\n",
       "      <td>...</td>\n",
       "      <td>...</td>\n",
       "      <td>...</td>\n",
       "    </tr>\n",
       "    <tr>\n",
       "      <td>1015</td>\n",
       "      <td>Aula #07 - Tipos de Gráfico - IQ OPTION</td>\n",
       "      <td>NaN</td>\n",
       "      <td>18 visualizações</td>\n",
       "      <td>Publicado em 19 de mar. de 2020</td>\n",
       "      <td>Pessoas e blogs</td>\n",
       "      <td>Aula #07 - Tipos de Gráfico - IQ OPTION</td>\n",
       "      <td>tarug0 TRADER\\n\\n\\n\\n\\n\\n\\n\\n\\n\\n\\n\\n\\n\\nCarre...</td>\n",
       "      <td>18 visualizações\\n\\n\\n\\n\\n\\n\\n\\n1\\n\\nGostou de...</td>\n",
       "      <td>https://i.ytimg.com/vi/CcX-VoKwYmg/hqdefault.jpg</td>\n",
       "      <td>480</td>\n",
       "      <td>360</td>\n",
       "      <td>Para operar na sala de sinais da TURTLE TRADER...</td>\n",
       "      <td>1280.0</td>\n",
       "      <td>720.0</td>\n",
       "      <td>text/html</td>\n",
       "      <td>/channel/UCLPuLTC02OT8TCgvG_q8AWQ</td>\n",
       "      <td>0.467</td>\n",
       "    </tr>\n",
       "    <tr>\n",
       "      <td>1016</td>\n",
       "      <td>Aula #07 - Tipos de Gráfico - IQ OPTION</td>\n",
       "      <td>NaN</td>\n",
       "      <td>18 visualizações</td>\n",
       "      <td>Publicado em 19 de mar. de 2020</td>\n",
       "      <td>Pessoas e blogs</td>\n",
       "      <td>Aula #07 - Tipos de Gráfico - IQ OPTION</td>\n",
       "      <td>tarug0 TRADER\\n\\n\\n\\n\\n\\n\\n\\n\\n\\n\\n\\n\\n\\nCarre...</td>\n",
       "      <td>18 visualizações\\n\\n\\n\\n\\n\\n\\n\\n1\\n\\nGostou de...</td>\n",
       "      <td>https://i.ytimg.com/vi/CcX-VoKwYmg/hqdefault.jpg</td>\n",
       "      <td>480</td>\n",
       "      <td>360</td>\n",
       "      <td>Para operar na sala de sinais da TURTLE TRADER...</td>\n",
       "      <td>1280.0</td>\n",
       "      <td>720.0</td>\n",
       "      <td>text/html</td>\n",
       "      <td>/channel/UCLPuLTC02OT8TCgvG_q8AWQ</td>\n",
       "      <td>0.467</td>\n",
       "    </tr>\n",
       "    <tr>\n",
       "      <td>1020</td>\n",
       "      <td>Maratona IBGE - Ética | Prof. Felipe Medeiros</td>\n",
       "      <td>NaN</td>\n",
       "      <td>108 visualizações</td>\n",
       "      <td>Transmitido ao vivo em 18 de mar. de 2020</td>\n",
       "      <td>Educação</td>\n",
       "      <td>Maratona IBGE - Ética | Prof. Felipe Medeiros</td>\n",
       "      <td>Exponencial Concursos\\n\\n\\n\\n\\n\\n\\n\\n\\n\\n\\n\\n\\...</td>\n",
       "      <td>108 visualizações\\n\\n\\n\\n\\n\\n\\n\\n25\\n\\nGostou ...</td>\n",
       "      <td>https://i.ytimg.com/vi/SL_FUuDY9Sg/maxresdefau...</td>\n",
       "      <td>1280</td>\n",
       "      <td>720</td>\n",
       "      <td>Bora detonar a banca e gabaritar a prova do IB...</td>\n",
       "      <td>480.0</td>\n",
       "      <td>360.0</td>\n",
       "      <td>text/html</td>\n",
       "      <td>/channel/UCr9rg5WOPmXvZgOfBl-HEuw</td>\n",
       "      <td>0.471</td>\n",
       "    </tr>\n",
       "    <tr>\n",
       "      <td>1037</td>\n",
       "      <td>Um trecho da Amostra do meu trabalho n ° 01</td>\n",
       "      <td>NaN</td>\n",
       "      <td>55 visualizações</td>\n",
       "      <td>Publicado em 15 de mar. de 2020</td>\n",
       "      <td>AdRev for a 3rd Party (em nome de Atlantic Sev...</td>\n",
       "      <td>Um trecho da Amostra do meu trabalho n ° 01</td>\n",
       "      <td>CyNara Customizações\\n\\n\\n\\n\\n\\n\\n\\n\\n\\n\\n\\n\\n...</td>\n",
       "      <td>55 visualizações\\n\\n\\n\\n\\n\\n\\n\\n13\\n\\nGostou d...</td>\n",
       "      <td>https://i.ytimg.com/vi/M8x6MRVAyqY/hqdefault.jpg</td>\n",
       "      <td>480</td>\n",
       "      <td>360</td>\n",
       "      <td>Links: Instagram: https://www.instagram.com/cy...</td>\n",
       "      <td>960.0</td>\n",
       "      <td>720.0</td>\n",
       "      <td>text/html</td>\n",
       "      <td>/channel/UC2zw9UciNp50Ny7FTiAl_nQ</td>\n",
       "      <td>0.502</td>\n",
       "    </tr>\n",
       "    <tr>\n",
       "      <td>1038</td>\n",
       "      <td>Latitude e Longitude no IBGE, CONHECIMENTOS TÉ...</td>\n",
       "      <td>NaN</td>\n",
       "      <td>541 visualizações</td>\n",
       "      <td>Publicado em 16 de mar. de 2020</td>\n",
       "      <td>Educação</td>\n",
       "      <td>Latitude e Longitude no IBGE, CONHECIMENTOS TÉ...</td>\n",
       "      <td>PEDREIRO CONCURSEIRO MINEIRO\\n\\n\\n\\n\\n\\n\\n\\n\\n...</td>\n",
       "      <td>541 visualizações\\n\\n\\n\\n\\n\\n\\n\\n86\\n\\nGostou ...</td>\n",
       "      <td>https://i.ytimg.com/vi/yyNAu6difOc/maxresdefau...</td>\n",
       "      <td>1280</td>\n",
       "      <td>720</td>\n",
       "      <td>Link do NOSSO CANAL De QUESTÕES: https://www.y...</td>\n",
       "      <td>1280.0</td>\n",
       "      <td>720.0</td>\n",
       "      <td>text/html</td>\n",
       "      <td>/channel/UCk9i0-eQNk6Q2Ndnr4YvGgA</td>\n",
       "      <td>0.519</td>\n",
       "    </tr>\n",
       "  </tbody>\n",
       "</table>\n",
       "<p>107 rows × 17 columns</p>\n",
       "</div>"
      ],
      "text/plain": [
       "                                            watch-title  interested  \\\n",
       "30    Introduction to Data, Analytics, and Machine L...         NaN   \n",
       "41             Data Science – Baba Brinkman Music Video         NaN   \n",
       "45           Data Science Careers at McKinsey Analytics         NaN   \n",
       "47    Rethinking Business: Data Analytics With Googl...         NaN   \n",
       "56                 DATA SCIENCE BOOTCAMPS: GOOD OR BAD?         NaN   \n",
       "...                                                 ...         ...   \n",
       "1015            Aula #07 - Tipos de Gráfico - IQ OPTION         NaN   \n",
       "1016            Aula #07 - Tipos de Gráfico - IQ OPTION         NaN   \n",
       "1020      Maratona IBGE - Ética | Prof. Felipe Medeiros         NaN   \n",
       "1037        Um trecho da Amostra do meu trabalho n ° 01         NaN   \n",
       "1038  Latitude e Longitude no IBGE, CONHECIMENTOS TÉ...         NaN   \n",
       "\n",
       "          watch-view-count                            watch-time-text  \\\n",
       "30     8.159 visualizações            Publicado em 31 de jul. de 2018   \n",
       "41    22.043 visualizações            Publicado em 21 de out. de 2019   \n",
       "45    44.466 visualizações            Publicado em 15 de set. de 2017   \n",
       "47     5.780 visualizações            Publicado em 10 de abr. de 2019   \n",
       "56    44.306 visualizações            Publicado em 21 de fev. de 2019   \n",
       "...                    ...                                        ...   \n",
       "1015      18 visualizações            Publicado em 19 de mar. de 2020   \n",
       "1016      18 visualizações            Publicado em 19 de mar. de 2020   \n",
       "1020     108 visualizações  Transmitido ao vivo em 18 de mar. de 2020   \n",
       "1037      55 visualizações            Publicado em 15 de mar. de 2020   \n",
       "1038     541 visualizações            Publicado em 16 de mar. de 2020   \n",
       "\n",
       "                            content_watch-info-tag-list  \\\n",
       "30                                 Ciência e tecnologia   \n",
       "41                                               Música   \n",
       "45                                  Notícias e política   \n",
       "47                                 Ciência e tecnologia   \n",
       "56                                       Entretenimento   \n",
       "...                                                 ...   \n",
       "1015                                    Pessoas e blogs   \n",
       "1016                                    Pessoas e blogs   \n",
       "1020                                           Educação   \n",
       "1037  AdRev for a 3rd Party (em nome de Atlantic Sev...   \n",
       "1038                                           Educação   \n",
       "\n",
       "                                        watch7-headline  \\\n",
       "30    Introduction to Data, Analytics, and Machine L...   \n",
       "41             Data Science – Baba Brinkman Music Video   \n",
       "45           Data Science Careers at McKinsey Analytics   \n",
       "47    Rethinking Business: Data Analytics With Googl...   \n",
       "56                 DATA SCIENCE BOOTCAMPS: GOOD OR BAD?   \n",
       "...                                                 ...   \n",
       "1015            Aula #07 - Tipos de Gráfico - IQ OPTION   \n",
       "1016            Aula #07 - Tipos de Gráfico - IQ OPTION   \n",
       "1020      Maratona IBGE - Ética | Prof. Felipe Medeiros   \n",
       "1037        Um trecho da Amostra do meu trabalho n ° 01   \n",
       "1038  Latitude e Longitude no IBGE, CONHECIMENTOS TÉ...   \n",
       "\n",
       "                                     watch7-user-header  \\\n",
       "30    IBM Data and AI\\n\\n\\n\\n\\n\\n\\n\\n\\n\\n\\n\\n\\n\\nCar...   \n",
       "41    Baba Brinkman\\n\\n\\n\\n\\n\\n\\n\\n\\n\\n\\n\\n\\n\\nCarre...   \n",
       "45    McKinsey & Company\\n\\n\\n\\n\\n\\n\\n\\n\\n\\n\\n\\n\\n\\n...   \n",
       "47    G Suite\\n\\n\\n\\n\\n\\n\\n\\n\\n\\n\\n\\n\\n\\nCarregando....   \n",
       "56    Python Programmer\\n\\n\\n\\n\\n\\n\\n\\n\\n\\n\\n\\n\\n\\nC...   \n",
       "...                                                 ...   \n",
       "1015  tarug0 TRADER\\n\\n\\n\\n\\n\\n\\n\\n\\n\\n\\n\\n\\n\\nCarre...   \n",
       "1016  tarug0 TRADER\\n\\n\\n\\n\\n\\n\\n\\n\\n\\n\\n\\n\\n\\nCarre...   \n",
       "1020  Exponencial Concursos\\n\\n\\n\\n\\n\\n\\n\\n\\n\\n\\n\\n\\...   \n",
       "1037  CyNara Customizações\\n\\n\\n\\n\\n\\n\\n\\n\\n\\n\\n\\n\\n...   \n",
       "1038  PEDREIRO CONCURSEIRO MINEIRO\\n\\n\\n\\n\\n\\n\\n\\n\\n...   \n",
       "\n",
       "                               watch8-sentiment-actions  \\\n",
       "30    8.159 visualizações\\n\\n\\n\\n\\n\\n\\n\\n226\\n\\nGost...   \n",
       "41    22.043 visualizações\\n\\n\\n\\n\\n\\n\\n\\n734\\n\\nGos...   \n",
       "45    44.466 visualizações\\n\\n\\n\\n\\n\\n\\n\\n484\\n\\nGos...   \n",
       "47    5.780 visualizações\\n\\n\\n\\n\\n\\n\\n\\n79\\n\\nGosto...   \n",
       "56    44.306 visualizações\\n\\n\\n\\n\\n\\n\\n\\n1.230\\n\\nG...   \n",
       "...                                                 ...   \n",
       "1015  18 visualizações\\n\\n\\n\\n\\n\\n\\n\\n1\\n\\nGostou de...   \n",
       "1016  18 visualizações\\n\\n\\n\\n\\n\\n\\n\\n1\\n\\nGostou de...   \n",
       "1020  108 visualizações\\n\\n\\n\\n\\n\\n\\n\\n25\\n\\nGostou ...   \n",
       "1037  55 visualizações\\n\\n\\n\\n\\n\\n\\n\\n13\\n\\nGostou d...   \n",
       "1038  541 visualizações\\n\\n\\n\\n\\n\\n\\n\\n86\\n\\nGostou ...   \n",
       "\n",
       "                                               og:image  og:image:width  \\\n",
       "30    https://i.ytimg.com/vi/Db24-JRN3ls/maxresdefau...            1280   \n",
       "41    https://i.ytimg.com/vi/uHGlCi9jOWY/maxresdefau...            1280   \n",
       "45    https://i.ytimg.com/vi/86o159AdZvs/maxresdefau...            1280   \n",
       "47    https://i.ytimg.com/vi/DpngHc31a5Y/maxresdefau...            1280   \n",
       "56    https://i.ytimg.com/vi/zLSpuOWwmvE/maxresdefau...            1280   \n",
       "...                                                 ...             ...   \n",
       "1015   https://i.ytimg.com/vi/CcX-VoKwYmg/hqdefault.jpg             480   \n",
       "1016   https://i.ytimg.com/vi/CcX-VoKwYmg/hqdefault.jpg             480   \n",
       "1020  https://i.ytimg.com/vi/SL_FUuDY9Sg/maxresdefau...            1280   \n",
       "1037   https://i.ytimg.com/vi/M8x6MRVAyqY/hqdefault.jpg             480   \n",
       "1038  https://i.ytimg.com/vi/yyNAu6difOc/maxresdefau...            1280   \n",
       "\n",
       "      og:image:height                                     og:description  \\\n",
       "30                720  Data, analytics and machine learning are the f...   \n",
       "41                720  Rap battle between a data scientist and a clas...   \n",
       "45                720  At McKinsey Analytics, we help clients harness...   \n",
       "47                720  People, process, & technology: these universal...   \n",
       "56                720  My opinion on Data Science Bootcamps. Free boo...   \n",
       "...               ...                                                ...   \n",
       "1015              360  Para operar na sala de sinais da TURTLE TRADER...   \n",
       "1016              360  Para operar na sala de sinais da TURTLE TRADER...   \n",
       "1020              720  Bora detonar a banca e gabaritar a prova do IB...   \n",
       "1037              360  Links: Instagram: https://www.instagram.com/cy...   \n",
       "1038              720  Link do NOSSO CANAL De QUESTÕES: https://www.y...   \n",
       "\n",
       "      og:video:width  og:video:height og:video:type  \\\n",
       "30            1280.0            720.0     text/html   \n",
       "41            1280.0            720.0     text/html   \n",
       "45            1280.0            720.0     text/html   \n",
       "47            1280.0            720.0     text/html   \n",
       "56            1280.0            720.0     text/html   \n",
       "...              ...              ...           ...   \n",
       "1015          1280.0            720.0     text/html   \n",
       "1016          1280.0            720.0     text/html   \n",
       "1020           480.0            360.0     text/html   \n",
       "1037           960.0            720.0     text/html   \n",
       "1038          1280.0            720.0     text/html   \n",
       "\n",
       "                         channel_link_0      p  \n",
       "30    /channel/UCJTuksne41vNVFxzyZDJodQ  0.499  \n",
       "41    /channel/UCz9Qm66ewnY0LAlZlL4HK9g  0.494  \n",
       "45    /channel/UCQMqUlg362Hhar_iCZ9tcjQ  0.460  \n",
       "47    /channel/UCBmwzQnSoj9b6HzNmFrg_yw  0.473  \n",
       "56    /channel/UC68KSmHePPePCjW4v57VPQg  0.517  \n",
       "...                                 ...    ...  \n",
       "1015  /channel/UCLPuLTC02OT8TCgvG_q8AWQ  0.467  \n",
       "1016  /channel/UCLPuLTC02OT8TCgvG_q8AWQ  0.467  \n",
       "1020  /channel/UCr9rg5WOPmXvZgOfBl-HEuw  0.471  \n",
       "1037  /channel/UC2zw9UciNp50Ny7FTiAl_nQ  0.502  \n",
       "1038  /channel/UCk9i0-eQNk6Q2Ndnr4YvGgA  0.519  \n",
       "\n",
       "[107 rows x 17 columns]"
      ]
     },
     "execution_count": 397,
     "metadata": {},
     "output_type": "execute_result"
    }
   ],
   "source": [
    "df_unlabeled[mask_u]"
   ]
  },
  {
   "cell_type": "code",
   "execution_count": 398,
   "metadata": {},
   "outputs": [],
   "source": [
    "hards = df_unlabeled[mask_u]"
   ]
  },
  {
   "cell_type": "code",
   "execution_count": 399,
   "metadata": {},
   "outputs": [],
   "source": [
    "random_cases = df_unlabeled[~mask_u].sample(20)"
   ]
  },
  {
   "cell_type": "code",
   "execution_count": 402,
   "metadata": {},
   "outputs": [],
   "source": [
    "df_for_acl = pd.concat([hards, random_cases])"
   ]
  },
  {
   "cell_type": "code",
   "execution_count": 455,
   "metadata": {},
   "outputs": [],
   "source": [
    "for column in df_for_acl[df_for_acl.dtypes[df_for_acl.dtypes == object].index]:\n",
    "    break_number = df_for_acl[column].str.contains(\"\\n\", na=False, regex=True).sum()\n",
    "    if break_number > 0:\n",
    "        df_for_acl[column] = df_for_acl[column].apply(lambda x: str(x).replace(\"\\n\", \"\"))"
   ]
  },
  {
   "cell_type": "code",
   "execution_count": 461,
   "metadata": {},
   "outputs": [
    {
     "data": {
      "text/html": [
       "<div>\n",
       "<style scoped>\n",
       "    .dataframe tbody tr th:only-of-type {\n",
       "        vertical-align: middle;\n",
       "    }\n",
       "\n",
       "    .dataframe tbody tr th {\n",
       "        vertical-align: top;\n",
       "    }\n",
       "\n",
       "    .dataframe thead th {\n",
       "        text-align: right;\n",
       "    }\n",
       "</style>\n",
       "<table border=\"1\" class=\"dataframe\">\n",
       "  <thead>\n",
       "    <tr style=\"text-align: right;\">\n",
       "      <th></th>\n",
       "      <th>watch-title</th>\n",
       "      <th>interested</th>\n",
       "      <th>watch-view-count</th>\n",
       "      <th>watch-time-text</th>\n",
       "      <th>content_watch-info-tag-list</th>\n",
       "      <th>watch7-headline</th>\n",
       "      <th>watch7-user-header</th>\n",
       "      <th>watch8-sentiment-actions</th>\n",
       "      <th>og:image</th>\n",
       "      <th>og:image:width</th>\n",
       "      <th>og:image:height</th>\n",
       "      <th>og:description</th>\n",
       "      <th>og:video:width</th>\n",
       "      <th>og:video:height</th>\n",
       "      <th>og:video:type</th>\n",
       "      <th>channel_link_0</th>\n",
       "      <th>p</th>\n",
       "    </tr>\n",
       "  </thead>\n",
       "  <tbody>\n",
       "    <tr>\n",
       "      <td>30</td>\n",
       "      <td>Introduction to Data, Analytics, and Machine L...</td>\n",
       "      <td>NaN</td>\n",
       "      <td>8.159 visualizações</td>\n",
       "      <td>Publicado em 31 de jul. de 2018</td>\n",
       "      <td>Ciência e tecnologia</td>\n",
       "      <td>Introduction to Data, Analytics, and Machine L...</td>\n",
       "      <td>IBM Data and AICarregando...            Cancel...</td>\n",
       "      <td>8.159 visualizações226Gostou deste vídeo?     ...</td>\n",
       "      <td>https://i.ytimg.com/vi/Db24-JRN3ls/maxresdefau...</td>\n",
       "      <td>1280</td>\n",
       "      <td>720</td>\n",
       "      <td>Data, analytics and machine learning are the f...</td>\n",
       "      <td>1280.0</td>\n",
       "      <td>720.0</td>\n",
       "      <td>text/html</td>\n",
       "      <td>/channel/UCJTuksne41vNVFxzyZDJodQ</td>\n",
       "      <td>0.499</td>\n",
       "    </tr>\n",
       "    <tr>\n",
       "      <td>41</td>\n",
       "      <td>Data Science – Baba Brinkman Music Video</td>\n",
       "      <td>NaN</td>\n",
       "      <td>22.043 visualizações</td>\n",
       "      <td>Publicado em 21 de out. de 2019</td>\n",
       "      <td>Música</td>\n",
       "      <td>Data Science – Baba Brinkman Music Video</td>\n",
       "      <td>Baba BrinkmanCarregando...            Cancelar...</td>\n",
       "      <td>22.043 visualizações734Gostou deste vídeo?    ...</td>\n",
       "      <td>https://i.ytimg.com/vi/uHGlCi9jOWY/maxresdefau...</td>\n",
       "      <td>1280</td>\n",
       "      <td>720</td>\n",
       "      <td>Rap battle between a data scientist and a clas...</td>\n",
       "      <td>1280.0</td>\n",
       "      <td>720.0</td>\n",
       "      <td>text/html</td>\n",
       "      <td>/channel/UCz9Qm66ewnY0LAlZlL4HK9g</td>\n",
       "      <td>0.494</td>\n",
       "    </tr>\n",
       "  </tbody>\n",
       "</table>\n",
       "</div>"
      ],
      "text/plain": [
       "                                          watch-title  interested  \\\n",
       "30  Introduction to Data, Analytics, and Machine L...         NaN   \n",
       "41           Data Science – Baba Brinkman Music Video         NaN   \n",
       "\n",
       "        watch-view-count                  watch-time-text  \\\n",
       "30   8.159 visualizações  Publicado em 31 de jul. de 2018   \n",
       "41  22.043 visualizações  Publicado em 21 de out. de 2019   \n",
       "\n",
       "   content_watch-info-tag-list  \\\n",
       "30        Ciência e tecnologia   \n",
       "41                      Música   \n",
       "\n",
       "                                      watch7-headline  \\\n",
       "30  Introduction to Data, Analytics, and Machine L...   \n",
       "41           Data Science – Baba Brinkman Music Video   \n",
       "\n",
       "                                   watch7-user-header  \\\n",
       "30  IBM Data and AICarregando...            Cancel...   \n",
       "41  Baba BrinkmanCarregando...            Cancelar...   \n",
       "\n",
       "                             watch8-sentiment-actions  \\\n",
       "30  8.159 visualizações226Gostou deste vídeo?     ...   \n",
       "41  22.043 visualizações734Gostou deste vídeo?    ...   \n",
       "\n",
       "                                             og:image  og:image:width  \\\n",
       "30  https://i.ytimg.com/vi/Db24-JRN3ls/maxresdefau...            1280   \n",
       "41  https://i.ytimg.com/vi/uHGlCi9jOWY/maxresdefau...            1280   \n",
       "\n",
       "    og:image:height                                     og:description  \\\n",
       "30              720  Data, analytics and machine learning are the f...   \n",
       "41              720  Rap battle between a data scientist and a clas...   \n",
       "\n",
       "    og:video:width  og:video:height og:video:type  \\\n",
       "30          1280.0            720.0     text/html   \n",
       "41          1280.0            720.0     text/html   \n",
       "\n",
       "                       channel_link_0      p  \n",
       "30  /channel/UCJTuksne41vNVFxzyZDJodQ  0.499  \n",
       "41  /channel/UCz9Qm66ewnY0LAlZlL4HK9g  0.494  "
      ]
     },
     "execution_count": 461,
     "metadata": {},
     "output_type": "execute_result"
    }
   ],
   "source": [
    "df_for_acl.head(2)"
   ]
  },
  {
   "cell_type": "code",
   "execution_count": 457,
   "metadata": {},
   "outputs": [],
   "source": [
    "df_for_acl.to_csv(\"active_label.csv\")"
   ]
  }
 ],
 "metadata": {
  "kernelspec": {
   "display_name": "Python 3",
   "language": "python",
   "name": "python3"
  },
  "language_info": {
   "codemirror_mode": {
    "name": "ipython",
    "version": 3
   },
   "file_extension": ".py",
   "mimetype": "text/x-python",
   "name": "python",
   "nbconvert_exporter": "python",
   "pygments_lexer": "ipython3",
   "version": "3.6.9"
  }
 },
 "nbformat": 4,
 "nbformat_minor": 2
}
